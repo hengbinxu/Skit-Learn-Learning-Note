{
 "cells": [
  {
   "cell_type": "markdown",
   "metadata": {},
   "source": [
    "### Decision Tree  Algorithm\n",
    "\n",
    "Decision trees are a powerful prediction method and extremely popular.\n",
    "\n",
    "They are popular because the final model is so easy to understand by practitioners and domain experts alike. The final decision tree can explain exactly why a specific prediction was made, making it very attractive for operational use.\n",
    "\n",
    "Decision trees also provide the foundation for more advanced ensemble methods such as bagging, random forests and gradient boosting.\n",
    "\n",
    "Reference: [How to implement decision tree from scratch in python](https://machinelearningmastery.com/implement-decision-tree-algorithm-scratch-python/)\n",
    "\n",
    "#### The various decision tree algorithms following as:\n",
    "   - ID3 (Only apply on classification problems and only allow to input discrete data)\n",
    "   - C4.5 (Improve ID3 algorithm can apply on regression and classification problems, it also accept discrete data and continuous data)   \n",
    "   - C5\n",
    "   - CART (Classification and Regression Tree)(skit-learn use)"
   ]
  },
  {
   "cell_type": "markdown",
   "metadata": {},
   "source": [
    "### 決策樹演算法概念:\n",
    "   - 決策數的生成:\n",
    "     - 依據屬性選擇指標(Information Gain, Gini Index or Chi-square, etc)尋找最佳節點(node)變數，並從節點變數中尋找最佳切割值\n",
    "   - 目的:\n",
    "     - 切割後同分支資料的同質性(Homogeneous)愈高愈好，不純度(Impurity)愈低愈好\n",
    "   - 常見的屬性選擇指標:\n",
    "     1. Information Gain(based on Entropy) $\\to$ ID3, C4, C4.5, C5\n",
    "     2. Gini Index $\\to$ CART\n",
    "     3. Chi-square test of Independence $\\to$ CHAID"
   ]
  },
  {
   "cell_type": "code",
   "execution_count": 1,
   "metadata": {},
   "outputs": [],
   "source": [
    "import numpy as np\n",
    "import pandas as pd\n",
    "import matplotlib.pyplot as plt\n",
    "#import matplotlib"
   ]
  },
  {
   "cell_type": "code",
   "execution_count": 2,
   "metadata": {},
   "outputs": [],
   "source": [
    "#print(np.__version__)\n",
    "#print(pd.__version__)\n",
    "#print(matplotlib.__version__)"
   ]
  },
  {
   "cell_type": "markdown",
   "metadata": {},
   "source": [
    "### Entropy\n",
    "\n",
    "   - 如果資料集合S具有n個不同的類別，那麼資料集合S的 *Entropy* 計算方式為:\n",
    "     - $Entropy(s) = \\sum_{i = 1}^{n}(-p_{i}log_{2}p_{i})$"
   ]
  },
  {
   "cell_type": "code",
   "execution_count": 3,
   "metadata": {},
   "outputs": [],
   "source": [
    "import math\n",
    "\n",
    "def Entropy(Prob):\n",
    "    if sum(Prob) != 1:\n",
    "        raise ValueError(\"The summation of probability must equal to 1.\")\n",
    "    entropy = 0\n",
    "    for p in Prob:\n",
    "        entropy += -p * math.log(p, 2)\n",
    "    return entropy"
   ]
  },
  {
   "cell_type": "code",
   "execution_count": 4,
   "metadata": {},
   "outputs": [],
   "source": [
    "prob = np.linspace(0, 1, 10000)\n",
    "prob = np.delete(prob, [0, len(prob)-1])\n",
    "complement_prob = np.abs(1 - prob)\n",
    "\n",
    "prob_arr = np.c_[prob, complement_prob]\n",
    "\n",
    "entropy_list = []\n",
    "for arr in prob_arr:\n",
    "    entropy_list.append(Entropy(arr))"
   ]
  },
  {
   "cell_type": "code",
   "execution_count": 5,
   "metadata": {},
   "outputs": [
    {
     "data": {
      "image/png": "[encoded data removed]",
      "text/plain": [
       "<matplotlib.figure.Figure at 0x17ecaba8>"
      ]
     },
     "metadata": {},
     "output_type": "display_data"
    }
   ],
   "source": [
    "plt.style.use(\"ggplot\")\n",
    "plt.plot(prob, entropy_list, 'r')\n",
    "plt.xlabel(s = 'Probability')\n",
    "plt.ylabel(s = 'Entropy')\n",
    "plt.show()"
   ]
  },
  {
   "cell_type": "markdown",
   "metadata": {},
   "source": [
    "### 資訊獲取量 (Inforamtion Gain)\n",
    " - ID3 是利用 Information Gain 來衡量資料集中任一變數在特定值之下切割資料分類的好壞\n",
    " \n",
    " \n",
    " - 變數 A 在資料集 S 的資訊獲取量為:\n",
    "   - $Gain(S, A) = Entropy(s) - \\sum_{j = 1}^{v}\\frac{\\mid S_{j}\\mid}{\\mid S \\mid} Entropy(S_{j})$\n",
    "   \n",
    "   \n",
    " - 假設變數$A$中有$v$個不同值$\\{a1 , a2 ,…, av \\}$，而資料集合$S$會因為這些不同值而產生(分割)出$v$個不同的資料子集合$\\{S_{1}, S_{2},…,  S_{v}\\}$\n",
    " \n",
    " \n",
    " - $Entropy(s)$: 資料$S$整體的亂度\n",
    " \n",
    " \n",
    " - $Entropy(s_{j})$: 資料子集合 $S_{j}$ 中的亂度, 其中 $j = 1, 2, 3,.., v$\n",
    " \n",
    " \n",
    " - $\\frac{\\mid S_{j} \\mid}{\\mid S \\mid}$: 第 j 個子集合之資料個數佔總資料集合的比例(權重)\n",
    " \n",
    " \n",
    " - $Gain(S, A)$: 利用變數$A$對資料集合$S$進行分割的獲利\n",
    "   - $Gain$值愈大，表示利用變數$A$來切割資料**亂度愈小**，用來**分類資料較佳**  \n",
    "   - $Gain$值愈小，表示利用變數$A$來切割資料**亂度愈大**，用來**分類資料較差**"
   ]
  },
  {
   "cell_type": "markdown",
   "metadata": {},
   "source": [
    "<img src=\"./picture/information_gain.PNG\" width=\"450\" heigh = \"300\" align = \"left\">\n"
   ]
  },
  {
   "cell_type": "code",
   "execution_count": 6,
   "metadata": {},
   "outputs": [
    {
     "data": {
      "text/html": [
       "<div>\n",
       "<style scoped>\n",
       "    .dataframe tbody tr th:only-of-type {\n",
       "        vertical-align: middle;\n",
       "    }\n",
       "\n",
       "    .dataframe tbody tr th {\n",
       "        vertical-align: top;\n",
       "    }\n",
       "\n",
       "    .dataframe thead th {\n",
       "        text-align: right;\n",
       "    }\n",
       "</style>\n",
       "<table border=\"1\" class=\"dataframe\">\n",
       "  <thead>\n",
       "    <tr style=\"text-align: right;\">\n",
       "      <th></th>\n",
       "      <th>humidity</th>\n",
       "      <th>wind_strength</th>\n",
       "      <th>play</th>\n",
       "    </tr>\n",
       "  </thead>\n",
       "  <tbody>\n",
       "    <tr>\n",
       "      <th>0</th>\n",
       "      <td>High</td>\n",
       "      <td>weak</td>\n",
       "      <td>False</td>\n",
       "    </tr>\n",
       "    <tr>\n",
       "      <th>1</th>\n",
       "      <td>High</td>\n",
       "      <td>strong</td>\n",
       "      <td>False</td>\n",
       "    </tr>\n",
       "    <tr>\n",
       "      <th>2</th>\n",
       "      <td>High</td>\n",
       "      <td>weak</td>\n",
       "      <td>True</td>\n",
       "    </tr>\n",
       "  </tbody>\n",
       "</table>\n",
       "</div>"
      ],
      "text/plain": [
       "  humidity wind_strength   play\n",
       "0     High          weak  False\n",
       "1     High        strong  False\n",
       "2     High          weak   True"
      ]
     },
     "execution_count": 6,
     "metadata": {},
     "output_type": "execute_result"
    }
   ],
   "source": [
    "play_or_not = [0, 0, 1, 1, 1, 0, 1, 0, 1, 1, 1, 1, 1, 0]\n",
    "play_or_not = [bool(ele) for ele in play_or_not]\n",
    "wind = ['weak', 'strong', 'weak', 'weak', 'weak', 'strong', 'weak', \n",
    "        'weak', 'weak', 'strong', 'strong', 'strong', \"weak\",'strong']\n",
    "humidity = [\"High\", \"High\", \"High\", \"High\", 'Normal', 'Normal', 'Normal',\n",
    "            'High', 'Normal', 'Normal', 'Normal', 'High', 'Normal', 'High']\n",
    "\n",
    "dat = {\"humidity\": humidity, 'wind_strength': wind, \"play\": play_or_not}\n",
    "\n",
    "df = pd.DataFrame(dat, columns = ['humidity', 'wind_strength', 'play'])\n",
    "df.head(3)"
   ]
  },
  {
   "cell_type": "code",
   "execution_count": 7,
   "metadata": {},
   "outputs": [],
   "source": [
    "def Information_Gain(df, target_variable, class_variable):\n",
    "\n",
    "    total_df = df[target_variable].count()\n",
    "    prob_target = df[target_variable].sum()/total_df\n",
    "    entropy_s = Entropy([prob_target, 1 - prob_target]) # calculate Entropy of original dataset\n",
    "\n",
    "    class_info = {}\n",
    "    for class_type in df[class_variable].unique():  # calculate Entropy of subset\n",
    "        subset = df[target_variable][df[class_variable] == class_type]\n",
    "        if subset.count() == 0:\n",
    "            prob_subset = 0\n",
    "        else:\n",
    "            prob_subset = subset.sum()/subset.count()\n",
    "        entropy_si = Entropy([prob_subset, 1 - prob_subset])\n",
    "        class_info[class_type] = [subset.count()/total_df, entropy_si]\n",
    "    weight_entropy = 0 \n",
    "    for sub_entropy in class_info.values():\n",
    "        weight_entropy += sub_entropy[0]*sub_entropy[1]\n",
    "    gain = entropy_s - weight_entropy\n",
    "    return gain"
   ]
  },
  {
   "cell_type": "code",
   "execution_count": 8,
   "metadata": {},
   "outputs": [
    {
     "name": "stdout",
     "output_type": "stream",
     "text": [
      "Humidity Information Gain: 0.15184\n",
      "wind strength Information Gain: 0.04813\n"
     ]
    }
   ],
   "source": [
    "IG_humidity = Information_Gain(df, target_variable = 'play', class_variable = 'humidity')\n",
    "IG_wind = Information_Gain(df, target_variable = 'play', class_variable = 'wind_strength')\n",
    "\n",
    "print(\"Humidity Information Gain: {:.5f}\".format(IG_humidity))\n",
    "print(\"wind strength Information Gain: {:.5f}\".format(IG_wind))"
   ]
  },
  {
   "cell_type": "markdown",
   "metadata": {},
   "source": [
    "### C4.5 \n",
    " \n",
    " - ID3演算法使用的資訊獲量會傾向選擇擁有較多類別的變數做為節點，而C4.5則是利用了正規化(Normalize)的概念改進了ID3的缺點，在計算資訊獲取量時，尚須計算該變數的分割資訊值(Split Information)，進而計算獲利比例(Gain Ratio)\n",
    " \n",
    " \n",
    " - $SplitInfo_{A}(S) = -\\sum_{j = 1}^{v} \\frac{\\mid S_{j} \\mid}{\\mid S \\mid} log_{2}{(\\frac{\\mid S_{j} \\mid}{\\mid S \\mid})}$\n",
    " \n",
    " \n",
    " - $GainRatio(A) = Gain(S, A) \\ / \\ SplitInfo_{A}(S)$\n",
    " \n",
    " \n",
    " - $GainRatio$愈大，表示利用變數A來切割資料亂度愈小，用來分類資料較佳"
   ]
  },
  {
   "cell_type": "code",
   "execution_count": 9,
   "metadata": {},
   "outputs": [],
   "source": [
    "def GainRatio(df, target_variable, class_variable): # modify Information_Gain function \n",
    "\n",
    "    total_df = df[target_variable].count()\n",
    "    prob_target = df[target_variable].sum()/total_df\n",
    "    entropy_s = Entropy([prob_target, 1 - prob_target]) # calculate Entropy of original dataset\n",
    "\n",
    "    class_info = {}\n",
    "    for class_type in df[class_variable].unique():  # calculate Entropy of subset\n",
    "        subset = df[target_variable][df[class_variable] == class_type]\n",
    "        if subset.count() == 0:\n",
    "            prob_subset = 0\n",
    "        else:\n",
    "            prob_subset = subset.sum()/subset.count()\n",
    "        entropy_si = Entropy([prob_subset, 1 - prob_subset])\n",
    "        class_info[class_type] = [subset.count()/total_df, entropy_si]\n",
    "    weight_entropy = 0\n",
    "    split_info = 0\n",
    "    for sub_entropy in class_info.values():\n",
    "        split_info += (-sub_entropy[0])*np.log2(sub_entropy[0]) # calculate SplitInfo\n",
    "        weight_entropy += sub_entropy[0]*sub_entropy[1]\n",
    "        \n",
    "    gain_ratio = (entropy_s - weight_entropy)/split_info\n",
    "        \n",
    "    return gain_ratio"
   ]
  },
  {
   "cell_type": "code",
   "execution_count": 10,
   "metadata": {},
   "outputs": [
    {
     "name": "stdout",
     "output_type": "stream",
     "text": [
      "Humidity GainRatio: 0.15184\n",
      "wind strength GainRatio: 0.04885\n"
     ]
    }
   ],
   "source": [
    "GainR_humidity = GainRatio(df, target_variable = 'play', class_variable = 'humidity')\n",
    "GainR_wind = GainRatio(df, target_variable = 'play', class_variable = 'wind_strength')\n",
    "\n",
    "print(\"Humidity GainRatio: {:.5f}\".format(GainR_humidity))\n",
    "print(\"wind strength GainRatio: {:.5f}\".format(GainR_wind))"
   ]
  },
  {
   "cell_type": "markdown",
   "metadata": {},
   "source": [
    "### CART \n",
    "  - CART與ID3、C4.5與C5.0演算法的最大差異為在每一個節點上都是採用二分法，也就是每個節點只能有兩個分支，而 ID3、C4.5與 C5.0則在每個節點上能有多個不同的分支\n",
    "  \n",
    "  \n",
    "  - 假設資料集合 S 中包含 n 個類別，則\n",
    "    \n",
    "    - $Gini(S) = 1 - \\sum_{j = 1}^{n} P_{j}^{2}$, 其中 $P_{j}$ 為在S中屬於 j 類別的機率\n",
    "  \n",
    "  \n",
    "  - 利用變數 A 切割資料集合 $S$ 為 $S_{1}$ 和 $S_{2}$(二元切割)，則利用此變數分割資料的 Gini Index 如下所示:\n",
    "     \n",
    "    - $Gini_{A}(S) = \\frac{\\mid S_{1}\\mid}{\\mid S \\mid} Gini(S_{1}) + \\frac{\\mid S_{2}\\mid}{\\mid S \\mid} Gini(S_{2})$ \n",
    "  \n",
    "  \n",
    "  - 不純度(Impurity)的降低值:\n",
    "  \n",
    "    - $\\Delta Gini(A) = Gini(S) - Gini_{A}(S)$\n",
    "  \n",
    "  \n",
    "  - 挑選擁有最大不純度的降低值，或是令 $Gini_{A}(S)$ 最小的變數做為切割資料的變數"
   ]
  },
  {
   "cell_type": "code",
   "execution_count": 11,
   "metadata": {},
   "outputs": [],
   "source": [
    "def Gini_score(Prob):\n",
    "    if sum(Prob) != 1:\n",
    "        raise ValueError(\"The summation of probability must equal to 1.\")\n",
    "    temp_p = 0\n",
    "    for p in Prob:\n",
    "        temp_p += p**2\n",
    "    gini = 1 - temp_p\n",
    "    return gini"
   ]
  },
  {
   "cell_type": "code",
   "execution_count": 12,
   "metadata": {},
   "outputs": [],
   "source": [
    "def Gini_Index(df, target_variable, class_variable):\n",
    "    total_df = df[target_variable].count()\n",
    "    prob_target = df[target_variable].sum()/total_df\n",
    "\n",
    "    gini_s = Gini_score(Prob = [prob_target, 1 - prob_target])\n",
    "\n",
    "    class_info = {}\n",
    "    for class_type in df[class_variable].unique():    \n",
    "        subset = df[target_variable][df[class_variable] == class_type]\n",
    "        if subset.count() == 0:\n",
    "            prob_subset = 0\n",
    "        else:\n",
    "            prob_subset = subset.sum()/subset.count()\n",
    "        gini_si = Gini_score([prob_subset, 1 - prob_subset])\n",
    "        class_info[class_type] = (subset.count()/total_df)*gini_si\n",
    "    \n",
    "    delta_gini = gini_s - sum(class_info.values())\n",
    "    return delta_gini"
   ]
  },
  {
   "cell_type": "code",
   "execution_count": 13,
   "metadata": {},
   "outputs": [
    {
     "name": "stdout",
     "output_type": "stream",
     "text": [
      "Humidity Gini-Index: 0.09184\n",
      "wind strength Gini-Index: 0.03061\n"
     ]
    }
   ],
   "source": [
    "gini_wind = Gini_Index(df, target_variable = 'play', class_variable = 'wind_strength')\n",
    "gini_humidity = Gini_Index(df, target_variable = 'play', class_variable = 'humidity')\n",
    "\n",
    "print(\"Humidity Gini-Index: {:.5f}\".format(gini_humidity))\n",
    "print(\"wind strength Gini-Index: {:.5f}\".format(gini_wind))"
   ]
  },
  {
   "cell_type": "markdown",
   "metadata": {},
   "source": [
    "\n",
    "\n",
    "#### scikit-learn uses an optimised version of the CART algorithm. [(skit-learn official Website)](http://scikit-learn.org/stable/modules/tree.html)"
   ]
  },
  {
   "cell_type": "code",
   "execution_count": 14,
   "metadata": {},
   "outputs": [],
   "source": [
    "from sklearn import datasets\n",
    "from sklearn.model_selection import train_test_split\n",
    "from sklearn.tree import DecisionTreeClassifier\n",
    "from sklearn import metrics"
   ]
  },
  {
   "cell_type": "code",
   "execution_count": 15,
   "metadata": {},
   "outputs": [],
   "source": [
    "#print(sklearn.__version__)"
   ]
  },
  {
   "cell_type": "code",
   "execution_count": 16,
   "metadata": {},
   "outputs": [
    {
     "data": {
      "text/html": [
       "<div>\n",
       "<style scoped>\n",
       "    .dataframe tbody tr th:only-of-type {\n",
       "        vertical-align: middle;\n",
       "    }\n",
       "\n",
       "    .dataframe tbody tr th {\n",
       "        vertical-align: top;\n",
       "    }\n",
       "\n",
       "    .dataframe thead th {\n",
       "        text-align: right;\n",
       "    }\n",
       "</style>\n",
       "<table border=\"1\" class=\"dataframe\">\n",
       "  <thead>\n",
       "    <tr style=\"text-align: right;\">\n",
       "      <th></th>\n",
       "      <th>sepal length (cm)</th>\n",
       "      <th>sepal width (cm)</th>\n",
       "      <th>petal length (cm)</th>\n",
       "      <th>petal width (cm)</th>\n",
       "      <th>species</th>\n",
       "    </tr>\n",
       "  </thead>\n",
       "  <tbody>\n",
       "    <tr>\n",
       "      <th>0</th>\n",
       "      <td>5.1</td>\n",
       "      <td>3.5</td>\n",
       "      <td>1.4</td>\n",
       "      <td>0.2</td>\n",
       "      <td>0.0</td>\n",
       "    </tr>\n",
       "    <tr>\n",
       "      <th>1</th>\n",
       "      <td>4.9</td>\n",
       "      <td>3.0</td>\n",
       "      <td>1.4</td>\n",
       "      <td>0.2</td>\n",
       "      <td>0.0</td>\n",
       "    </tr>\n",
       "    <tr>\n",
       "      <th>2</th>\n",
       "      <td>4.7</td>\n",
       "      <td>3.2</td>\n",
       "      <td>1.3</td>\n",
       "      <td>0.2</td>\n",
       "      <td>0.0</td>\n",
       "    </tr>\n",
       "  </tbody>\n",
       "</table>\n",
       "</div>"
      ],
      "text/plain": [
       "   sepal length (cm)  sepal width (cm)  petal length (cm)  petal width (cm)  \\\n",
       "0                5.1               3.5                1.4               0.2   \n",
       "1                4.9               3.0                1.4               0.2   \n",
       "2                4.7               3.2                1.3               0.2   \n",
       "\n",
       "   species  \n",
       "0      0.0  \n",
       "1      0.0  \n",
       "2      0.0  "
      ]
     },
     "execution_count": 16,
     "metadata": {},
     "output_type": "execute_result"
    }
   ],
   "source": [
    "iris = datasets.load_iris()\n",
    "iris_arr = np.concatenate((iris.data, iris.target.reshape(-1, 1)), axis = 1)\n",
    "col_names = iris.feature_names.copy()\n",
    "col_names.append('species')\n",
    "iris_df = pd.DataFrame(data = iris_arr, columns = col_names)\n",
    "iris_df.head(3)"
   ]
  },
  {
   "cell_type": "code",
   "execution_count": 17,
   "metadata": {},
   "outputs": [
    {
     "data": {
      "text/plain": [
       "{0: 'setosa', 1: 'versicolor', 2: 'virginica'}"
      ]
     },
     "execution_count": 17,
     "metadata": {},
     "output_type": "execute_result"
    }
   ],
   "source": [
    "map_dic = {class_num : name for class_num, name in zip(np.unique(iris.target), iris.target_names)}\n",
    "map_dic"
   ]
  },
  {
   "cell_type": "code",
   "execution_count": 18,
   "metadata": {},
   "outputs": [],
   "source": [
    "def plot_iris(df, x_axis, y_axis, class_name):\n",
    "    % matplotlib inline\n",
    "    plt.figure()\n",
    "    #plt.style.use('seaborn')\n",
    "    subset = iris_df[[x_axis, y_axis, class_name]]\n",
    "\n",
    "    class_num = subset[class_name].unique().astype(np.int64)\n",
    "    for num in class_num:\n",
    "        x = subset[x_axis][subset[class_name] == num]\n",
    "        y = subset[y_axis][subset[class_name] == num]\n",
    "        plt.scatter(x, y, color = ['r', 'g', 'b'][num], label = map_dic[num], s = 40)\n",
    "\n",
    "    plt.legend(loc = 'best', prop={'size': 10})\n",
    "    plt.xlabel(x_axis)\n",
    "    plt.ylabel(y_axis)\n",
    "    plt.show()"
   ]
  },
  {
   "cell_type": "code",
   "execution_count": 19,
   "metadata": {},
   "outputs": [
    {
     "data": {
      "image/png": "[encoded data removed]",
      "text/plain": [
       "<matplotlib.figure.Figure at 0x1bf36828>"
      ]
     },
     "metadata": {},
     "output_type": "display_data"
    }
   ],
   "source": [
    "#print(plt.style.available) # can select plot style\n",
    "plot_iris(df = iris_df, x_axis = 'sepal length (cm)', y_axis = 'petal length (cm)', class_name = 'species')"
   ]
  },
  {
   "cell_type": "markdown",
   "metadata": {},
   "source": [
    "###  DecisionTreeClassifier\n",
    "\n",
    "### [參數說明:](http://scikit-learn.org/stable/modules/generated/sklearn.tree.DecisionTreeClassifier.html#sklearn.tree.DecisionTreeClassifier)\n",
    "  \n",
    "  - criterion: 用哪種指標當作分割節點的標準($Gini \\ \\to \\ Gini \\ Impurity$, $entropy \\ \\to \\ Information \\ Gain$)\n",
    "  \n",
    "  - splitter: 如何決定節點，有 `best`和`random`兩種，`best`指的是選取特徵中最好的分割點，`random`為特徵中隨機的分割點, default 為 `best`\n",
    "  \n",
    "  - max_depth: 樹的最大深度，達到樹的最大深度樹即停止生長，預設為`None`，若為`None`樹則會一直成長，直到所有葉節點的資料都一樣，或是直到所有葉節點的資料筆數小於`min_samples_split`所設定的大小\n",
    "  \n",
    "  - min_samples_split: 內部節點(internal node)能被切割的最少資料個數，預設值為2，若內部節點資料個數小於設定值，則停止生長\n",
    "  \n",
    "  - min_sample_leaf: 葉節點中最少的資料個數，如果小於等於設定值，則數會停止生長\n",
    "  \n",
    "  - max_features: 幾個特徵要被搜尋最佳切割點，預設值為`None`，即為所有特徵\n",
    "  \n",
    "  - max_leaf_nodes:最多有幾個葉節點，但若定設定過小的`max_leaf_nodes`則葉節點的impurity不會下降太多   \n",
    "  \n",
    "  - min_impurity_decrease: 若**impurity的下降值**低於此設定值，則不會再繼續進行切割\n",
    "  \n",
    "  - min_impurity_split: 讓樹能夠提早訓練結束的閥值，如果切割後的impurity高於設定值，則會進行切割(version 0.21 sklearn 將會用，`min_impurity_decrease`代替)\n",
    "  \n",
    "  - presort: 是否要對資料進行排序，預設值為`Fasle`，排序後對於樣本數不多的資料集訓練的速度或許會比較快"
   ]
  },
  {
   "cell_type": "code",
   "execution_count": 20,
   "metadata": {},
   "outputs": [],
   "source": [
    "x, y = iris.data, iris.target\n",
    "x_train, x_test, y_train, y_test = train_test_split(x, y, test_size = 0.3)"
   ]
  },
  {
   "cell_type": "code",
   "execution_count": 21,
   "metadata": {},
   "outputs": [
    {
     "data": {
      "text/plain": [
       "DecisionTreeClassifier(class_weight=None, criterion='gini', max_depth=3,\n",
       "            max_features=None, max_leaf_nodes=None,\n",
       "            min_impurity_decrease=0.01, min_impurity_split=None,\n",
       "            min_samples_leaf=1, min_samples_split=2,\n",
       "            min_weight_fraction_leaf=0.0, presort=False, random_state=None,\n",
       "            splitter='best')"
      ]
     },
     "execution_count": 21,
     "metadata": {},
     "output_type": "execute_result"
    }
   ],
   "source": [
    "tree_clf = DecisionTreeClassifier(criterion = 'gini', splitter = 'best', max_depth = 3 , min_samples_split = 2, \n",
    "                                  max_features = None, min_impurity_decrease = 0.01)\n",
    "tree_clf.fit(X = x_train, y = y_train)"
   ]
  },
  {
   "cell_type": "code",
   "execution_count": 22,
   "metadata": {},
   "outputs": [],
   "source": [
    "prediction = tree_clf.predict(X = x_test)\n",
    "prob_arr = tree_clf.predict_proba(X = x_test) # the probabilities of belonging to each class\n",
    "prediction = prob_arr.argmax(axis = 1)"
   ]
  },
  {
   "cell_type": "code",
   "execution_count": 23,
   "metadata": {},
   "outputs": [
    {
     "name": "stdout",
     "output_type": "stream",
     "text": [
      "accuracy: 0.96\n",
      "-------------------------\n",
      "             precision    recall  f1-score   support\n",
      "\n",
      "     setosa       1.00      1.00      1.00        16\n",
      " versicolor       0.93      0.93      0.93        15\n",
      "  virginica       0.93      0.93      0.93        14\n",
      "\n",
      "avg / total       0.96      0.96      0.96        45\n",
      "\n",
      "-------------------------\n",
      "[[16  0  0]\n",
      " [ 0 14  1]\n",
      " [ 0  1 13]]\n"
     ]
    }
   ],
   "source": [
    "print(\"accuracy: {:.2f}\".format(tree_clf.score(X = x_test, y = y_test)))\n",
    "print(\"-\"*25)\n",
    "print(metrics.classification_report(y_true = y_test, y_pred = prediction, target_names = map_dic.values()))\n",
    "print(\"-\"*25)\n",
    "print(metrics.confusion_matrix(y_true = y_test, y_pred = prediction))"
   ]
  },
  {
   "cell_type": "markdown",
   "metadata": {},
   "source": [
    "### Feature importances\n",
    "\n",
    "#### 利用Gini Index 或是 Entropy 來進行判斷特徵重要性"
   ]
  },
  {
   "cell_type": "code",
   "execution_count": 24,
   "metadata": {},
   "outputs": [],
   "source": [
    "feature_importance_dic = {'feature names': iris.feature_names, 'importances': tree_clf.feature_importances_}\n",
    "feature_df = pd.DataFrame(data = feature_importance_dic)\n",
    "feature_df = feature_df[feature_df['importances'] != 0] # delete feature importances equal 0"
   ]
  },
  {
   "cell_type": "code",
   "execution_count": 25,
   "metadata": {},
   "outputs": [
    {
     "data": {
      "text/html": [
       "<div>\n",
       "<style scoped>\n",
       "    .dataframe tbody tr th:only-of-type {\n",
       "        vertical-align: middle;\n",
       "    }\n",
       "\n",
       "    .dataframe tbody tr th {\n",
       "        vertical-align: top;\n",
       "    }\n",
       "\n",
       "    .dataframe thead th {\n",
       "        text-align: right;\n",
       "    }\n",
       "</style>\n",
       "<table border=\"1\" class=\"dataframe\">\n",
       "  <thead>\n",
       "    <tr style=\"text-align: right;\">\n",
       "      <th></th>\n",
       "      <th>feature names</th>\n",
       "      <th>importances</th>\n",
       "    </tr>\n",
       "  </thead>\n",
       "  <tbody>\n",
       "    <tr>\n",
       "      <th>0</th>\n",
       "      <td>petal width</td>\n",
       "      <td>0.948703</td>\n",
       "    </tr>\n",
       "    <tr>\n",
       "      <th>1</th>\n",
       "      <td>petal length</td>\n",
       "      <td>0.051297</td>\n",
       "    </tr>\n",
       "  </tbody>\n",
       "</table>\n",
       "</div>"
      ],
      "text/plain": [
       "  feature names  importances\n",
       "0   petal width     0.948703\n",
       "1  petal length     0.051297"
      ]
     },
     "execution_count": 25,
     "metadata": {},
     "output_type": "execute_result"
    }
   ],
   "source": [
    "feature_df = feature_df.sort_values(by = 'importances', ascending = False).reset_index(drop = True)\n",
    "feature_df['feature names'] = feature_df['feature names'].str.replace(pat = ' \\([a-z]{,2}\\)', repl = \"\")\n",
    "feature_df"
   ]
  },
  {
   "cell_type": "code",
   "execution_count": 26,
   "metadata": {},
   "outputs": [],
   "source": [
    "def adding_text(rectangle):\n",
    "    # attach rectangle class to get axis and plotting information\n",
    "    for rect in rectangle:\n",
    "        height = rect.get_height()\n",
    "        temp_x = rect.get_x()\n",
    "        width = rect.get_width()\n",
    "        plt.text(x = temp_x + width/2, y = height*1.03 , s = \"%f\"%(height), ha = 'center', va = 'center')\n",
    "        # ha = horizontalaligment, va = verticalaligment"
   ]
  },
  {
   "cell_type": "code",
   "execution_count": 27,
   "metadata": {},
   "outputs": [
    {
     "data": {
      "image/png": "[encoded data removed]",
      "text/plain": [
       "<matplotlib.figure.Figure at 0x19f78be0>"
      ]
     },
     "metadata": {},
     "output_type": "display_data"
    }
   ],
   "source": [
    "rect = plt.bar(x = feature_df.index, height = feature_df['importances'], align = 'center')\n",
    "plt.xticks(feature_df.index, feature_df['feature names'].values)\n",
    "plt.xlabel('feature')\n",
    "plt.ylabel('feature importances')\n",
    "\n",
    "adding_text(rectangle = rect)\n",
    "\n",
    "plt.show()"
   ]
  },
  {
   "cell_type": "markdown",
   "metadata": {},
   "source": [
    "### Visualize decision process\n",
    "  - 必須先安裝 [graphviz](https://graphviz.gitlab.io/)和 graphviz 套件"
   ]
  },
  {
   "cell_type": "code",
   "execution_count": 28,
   "metadata": {},
   "outputs": [],
   "source": [
    "from sklearn.tree import export_graphviz\n",
    "import graphviz\n",
    "import matplotlib.image as mpimg"
   ]
  },
  {
   "cell_type": "code",
   "execution_count": 29,
   "metadata": {},
   "outputs": [
    {
     "data": {
      "image/svg+xml": [
       "<?xml version=\"1.0\" encoding=\"UTF-8\" standalone=\"no\"?>\r\n",
       "<!DOCTYPE svg PUBLIC \"-//W3C//DTD SVG 1.1//EN\"\r\n",
       " \"http://www.w3.org/Graphics/SVG/1.1/DTD/svg11.dtd\">\r\n",
       "<!-- Generated by graphviz version 2.38.0 (20140413.2041)\r\n",
       " -->\r\n",
       "<!-- Title: Tree Pages: 1 -->\r\n",
       "<svg width=\"368pt\" height=\"433pt\"\r\n",
       " viewBox=\"0.00 0.00 368.00 433.00\" xmlns=\"http://www.w3.org/2000/svg\" xmlns:xlink=\"http://www.w3.org/1999/xlink\">\r\n",
       "<g id=\"graph0\" class=\"graph\" transform=\"scale(1 1) rotate(0) translate(4 429)\">\r\n",
       "<title>Tree</title>\r\n",
       "<polygon fill=\"white\" stroke=\"none\" points=\"-4,4 -4,-429 364,-429 364,4 -4,4\"/>\r\n",
       "<!-- 0 -->\r\n",
       "<g id=\"node1\" class=\"node\"><title>0</title>\r\n",
       "<path fill=\"#8139e5\" fill-opacity=\"0.015686\" stroke=\"black\" d=\"M203,-425C203,-425 76,-425 76,-425 70,-425 64,-419 64,-413 64,-413 64,-354 64,-354 64,-348 70,-342 76,-342 76,-342 203,-342 203,-342 209,-342 215,-348 215,-354 215,-354 215,-413 215,-413 215,-419 209,-425 203,-425\"/>\r\n",
       "<text text-anchor=\"start\" x=\"72\" y=\"-409.8\" font-family=\"Helvetica,sans-Serif\" font-size=\"14.00\">petal width (cm) ≤ 0.8</text>\r\n",
       "<text text-anchor=\"start\" x=\"102\" y=\"-394.8\" font-family=\"Helvetica,sans-Serif\" font-size=\"14.00\">gini = 0.666</text>\r\n",
       "<text text-anchor=\"start\" x=\"92\" y=\"-379.8\" font-family=\"Helvetica,sans-Serif\" font-size=\"14.00\">samples = 105</text>\r\n",
       "<text text-anchor=\"start\" x=\"79\" y=\"-364.8\" font-family=\"Helvetica,sans-Serif\" font-size=\"14.00\">value = [34, 35, 36]</text>\r\n",
       "<text text-anchor=\"start\" x=\"89.5\" y=\"-349.8\" font-family=\"Helvetica,sans-Serif\" font-size=\"14.00\">class = virginica</text>\r\n",
       "</g>\r\n",
       "<!-- 1 -->\r\n",
       "<g id=\"node2\" class=\"node\"><title>1</title>\r\n",
       "<path fill=\"#e58139\" stroke=\"black\" d=\"M109,-298.5C109,-298.5 12,-298.5 12,-298.5 6,-298.5 0,-292.5 0,-286.5 0,-286.5 0,-242.5 0,-242.5 0,-236.5 6,-230.5 12,-230.5 12,-230.5 109,-230.5 109,-230.5 115,-230.5 121,-236.5 121,-242.5 121,-242.5 121,-286.5 121,-286.5 121,-292.5 115,-298.5 109,-298.5\"/>\r\n",
       "<text text-anchor=\"start\" x=\"31.5\" y=\"-283.3\" font-family=\"Helvetica,sans-Serif\" font-size=\"14.00\">gini = 0.0</text>\r\n",
       "<text text-anchor=\"start\" x=\"17\" y=\"-268.3\" font-family=\"Helvetica,sans-Serif\" font-size=\"14.00\">samples = 34</text>\r\n",
       "<text text-anchor=\"start\" x=\"8\" y=\"-253.3\" font-family=\"Helvetica,sans-Serif\" font-size=\"14.00\">value = [34, 0, 0]</text>\r\n",
       "<text text-anchor=\"start\" x=\"14.5\" y=\"-238.3\" font-family=\"Helvetica,sans-Serif\" font-size=\"14.00\">class = setosa</text>\r\n",
       "</g>\r\n",
       "<!-- 0&#45;&gt;1 -->\r\n",
       "<g id=\"edge1\" class=\"edge\"><title>0&#45;&gt;1</title>\r\n",
       "<path fill=\"none\" stroke=\"black\" d=\"M112.091,-341.907C104.492,-330.652 96.2312,-318.418 88.5931,-307.106\"/>\r\n",
       "<polygon fill=\"black\" stroke=\"black\" points=\"91.3914,-304.996 82.8948,-298.667 85.5901,-308.913 91.3914,-304.996\"/>\r\n",
       "<text text-anchor=\"middle\" x=\"78.1364\" y=\"-319.51\" font-family=\"Helvetica,sans-Serif\" font-size=\"14.00\">True</text>\r\n",
       "</g>\r\n",
       "<!-- 2 -->\r\n",
       "<g id=\"node3\" class=\"node\"><title>2</title>\r\n",
       "<path fill=\"#8139e5\" fill-opacity=\"0.027451\" stroke=\"black\" d=\"M286,-306C286,-306 151,-306 151,-306 145,-306 139,-300 139,-294 139,-294 139,-235 139,-235 139,-229 145,-223 151,-223 151,-223 286,-223 286,-223 292,-223 298,-229 298,-235 298,-235 298,-294 298,-294 298,-300 292,-306 286,-306\"/>\r\n",
       "<text text-anchor=\"start\" x=\"147\" y=\"-290.8\" font-family=\"Helvetica,sans-Serif\" font-size=\"14.00\">petal width (cm) ≤ 1.75</text>\r\n",
       "<text text-anchor=\"start\" x=\"189.5\" y=\"-275.8\" font-family=\"Helvetica,sans-Serif\" font-size=\"14.00\">gini = 0.5</text>\r\n",
       "<text text-anchor=\"start\" x=\"175\" y=\"-260.8\" font-family=\"Helvetica,sans-Serif\" font-size=\"14.00\">samples = 71</text>\r\n",
       "<text text-anchor=\"start\" x=\"162\" y=\"-245.8\" font-family=\"Helvetica,sans-Serif\" font-size=\"14.00\">value = [0, 35, 36]</text>\r\n",
       "<text text-anchor=\"start\" x=\"168.5\" y=\"-230.8\" font-family=\"Helvetica,sans-Serif\" font-size=\"14.00\">class = virginica</text>\r\n",
       "</g>\r\n",
       "<!-- 0&#45;&gt;2 -->\r\n",
       "<g id=\"edge2\" class=\"edge\"><title>0&#45;&gt;2</title>\r\n",
       "<path fill=\"none\" stroke=\"black\" d=\"M166.909,-341.907C172.914,-333.014 179.331,-323.509 185.529,-314.331\"/>\r\n",
       "<polygon fill=\"black\" stroke=\"black\" points=\"188.444,-316.267 191.14,-306.021 182.643,-312.35 188.444,-316.267\"/>\r\n",
       "<text text-anchor=\"middle\" x=\"195.898\" y=\"-326.864\" font-family=\"Helvetica,sans-Serif\" font-size=\"14.00\">False</text>\r\n",
       "</g>\r\n",
       "<!-- 3 -->\r\n",
       "<g id=\"node4\" class=\"node\"><title>3</title>\r\n",
       "<path fill=\"#39e581\" fill-opacity=\"0.886275\" stroke=\"black\" d=\"M209,-187C209,-187 68,-187 68,-187 62,-187 56,-181 56,-175 56,-175 56,-116 56,-116 56,-110 62,-104 68,-104 68,-104 209,-104 209,-104 215,-104 221,-110 221,-116 221,-116 221,-175 221,-175 221,-181 215,-187 209,-187\"/>\r\n",
       "<text text-anchor=\"start\" x=\"64\" y=\"-171.8\" font-family=\"Helvetica,sans-Serif\" font-size=\"14.00\">petal length (cm) ≤ 5.35</text>\r\n",
       "<text text-anchor=\"start\" x=\"101\" y=\"-156.8\" font-family=\"Helvetica,sans-Serif\" font-size=\"14.00\">gini = 0.184</text>\r\n",
       "<text text-anchor=\"start\" x=\"95\" y=\"-141.8\" font-family=\"Helvetica,sans-Serif\" font-size=\"14.00\">samples = 39</text>\r\n",
       "<text text-anchor=\"start\" x=\"86\" y=\"-126.8\" font-family=\"Helvetica,sans-Serif\" font-size=\"14.00\">value = [0, 35, 4]</text>\r\n",
       "<text text-anchor=\"start\" x=\"83\" y=\"-111.8\" font-family=\"Helvetica,sans-Serif\" font-size=\"14.00\">class = versicolor</text>\r\n",
       "</g>\r\n",
       "<!-- 2&#45;&gt;3 -->\r\n",
       "<g id=\"edge3\" class=\"edge\"><title>2&#45;&gt;3</title>\r\n",
       "<path fill=\"none\" stroke=\"black\" d=\"M190.744,-222.907C184.663,-214.014 178.164,-204.509 171.889,-195.331\"/>\r\n",
       "<polygon fill=\"black\" stroke=\"black\" points=\"174.74,-193.3 166.207,-187.021 168.962,-197.251 174.74,-193.3\"/>\r\n",
       "</g>\r\n",
       "<!-- 6 -->\r\n",
       "<g id=\"node7\" class=\"node\"><title>6</title>\r\n",
       "<path fill=\"#8139e5\" stroke=\"black\" d=\"M348,-179.5C348,-179.5 251,-179.5 251,-179.5 245,-179.5 239,-173.5 239,-167.5 239,-167.5 239,-123.5 239,-123.5 239,-117.5 245,-111.5 251,-111.5 251,-111.5 348,-111.5 348,-111.5 354,-111.5 360,-117.5 360,-123.5 360,-123.5 360,-167.5 360,-167.5 360,-173.5 354,-179.5 348,-179.5\"/>\r\n",
       "<text text-anchor=\"start\" x=\"270.5\" y=\"-164.3\" font-family=\"Helvetica,sans-Serif\" font-size=\"14.00\">gini = 0.0</text>\r\n",
       "<text text-anchor=\"start\" x=\"256\" y=\"-149.3\" font-family=\"Helvetica,sans-Serif\" font-size=\"14.00\">samples = 32</text>\r\n",
       "<text text-anchor=\"start\" x=\"247\" y=\"-134.3\" font-family=\"Helvetica,sans-Serif\" font-size=\"14.00\">value = [0, 0, 32]</text>\r\n",
       "<text text-anchor=\"start\" x=\"249.5\" y=\"-119.3\" font-family=\"Helvetica,sans-Serif\" font-size=\"14.00\">class = virginica</text>\r\n",
       "</g>\r\n",
       "<!-- 2&#45;&gt;6 -->\r\n",
       "<g id=\"edge6\" class=\"edge\"><title>2&#45;&gt;6</title>\r\n",
       "<path fill=\"none\" stroke=\"black\" d=\"M246.603,-222.907C254.395,-211.652 262.864,-199.418 270.696,-188.106\"/>\r\n",
       "<polygon fill=\"black\" stroke=\"black\" points=\"273.724,-189.881 276.538,-179.667 267.968,-185.897 273.724,-189.881\"/>\r\n",
       "</g>\r\n",
       "<!-- 4 -->\r\n",
       "<g id=\"node5\" class=\"node\"><title>4</title>\r\n",
       "<path fill=\"#39e581\" fill-opacity=\"0.941176\" stroke=\"black\" d=\"M120,-68C120,-68 17,-68 17,-68 11,-68 5,-62 5,-56 5,-56 5,-12 5,-12 5,-6 11,-0 17,-0 17,-0 120,-0 120,-0 126,-0 132,-6 132,-12 132,-12 132,-56 132,-56 132,-62 126,-68 120,-68\"/>\r\n",
       "<text text-anchor=\"start\" x=\"31\" y=\"-52.8\" font-family=\"Helvetica,sans-Serif\" font-size=\"14.00\">gini = 0.102</text>\r\n",
       "<text text-anchor=\"start\" x=\"25\" y=\"-37.8\" font-family=\"Helvetica,sans-Serif\" font-size=\"14.00\">samples = 37</text>\r\n",
       "<text text-anchor=\"start\" x=\"16\" y=\"-22.8\" font-family=\"Helvetica,sans-Serif\" font-size=\"14.00\">value = [0, 35, 2]</text>\r\n",
       "<text text-anchor=\"start\" x=\"13\" y=\"-7.8\" font-family=\"Helvetica,sans-Serif\" font-size=\"14.00\">class = versicolor</text>\r\n",
       "</g>\r\n",
       "<!-- 3&#45;&gt;4 -->\r\n",
       "<g id=\"edge4\" class=\"edge\"><title>3&#45;&gt;4</title>\r\n",
       "<path fill=\"none\" stroke=\"black\" d=\"M112.435,-103.726C106.837,-94.9703 100.913,-85.7032 95.2886,-76.9051\"/>\r\n",
       "<polygon fill=\"black\" stroke=\"black\" points=\"98.1226,-74.8399 89.7874,-68.2996 92.2247,-78.6103 98.1226,-74.8399\"/>\r\n",
       "</g>\r\n",
       "<!-- 5 -->\r\n",
       "<g id=\"node6\" class=\"node\"><title>5</title>\r\n",
       "<path fill=\"#8139e5\" stroke=\"black\" d=\"M254.5,-68C254.5,-68 162.5,-68 162.5,-68 156.5,-68 150.5,-62 150.5,-56 150.5,-56 150.5,-12 150.5,-12 150.5,-6 156.5,-0 162.5,-0 162.5,-0 254.5,-0 254.5,-0 260.5,-0 266.5,-6 266.5,-12 266.5,-12 266.5,-56 266.5,-56 266.5,-62 260.5,-68 254.5,-68\"/>\r\n",
       "<text text-anchor=\"start\" x=\"179.5\" y=\"-52.8\" font-family=\"Helvetica,sans-Serif\" font-size=\"14.00\">gini = 0.0</text>\r\n",
       "<text text-anchor=\"start\" x=\"169\" y=\"-37.8\" font-family=\"Helvetica,sans-Serif\" font-size=\"14.00\">samples = 2</text>\r\n",
       "<text text-anchor=\"start\" x=\"160\" y=\"-22.8\" font-family=\"Helvetica,sans-Serif\" font-size=\"14.00\">value = [0, 0, 2]</text>\r\n",
       "<text text-anchor=\"start\" x=\"158.5\" y=\"-7.8\" font-family=\"Helvetica,sans-Serif\" font-size=\"14.00\">class = virginica</text>\r\n",
       "</g>\r\n",
       "<!-- 3&#45;&gt;5 -->\r\n",
       "<g id=\"edge5\" class=\"edge\"><title>3&#45;&gt;5</title>\r\n",
       "<path fill=\"none\" stroke=\"black\" d=\"M164.565,-103.726C170.163,-94.9703 176.087,-85.7032 181.711,-76.9051\"/>\r\n",
       "<polygon fill=\"black\" stroke=\"black\" points=\"184.775,-78.6103 187.213,-68.2996 178.877,-74.8399 184.775,-78.6103\"/>\r\n",
       "</g>\r\n",
       "</g>\r\n",
       "</svg>\r\n"
      ],
      "text/plain": [
       "<graphviz.files.Source at 0x1c027470>"
      ]
     },
     "execution_count": 29,
     "metadata": {},
     "output_type": "execute_result"
    }
   ],
   "source": [
    "dot_data = export_graphviz(decision_tree = tree_clf, out_file = None, feature_names = iris.feature_names, filled = True, \n",
    "                           class_names = iris.target_names, special_characters=True, rounded = True)\n",
    "graph = graphviz.Source(dot_data)\n",
    "graph"
   ]
  },
  {
   "cell_type": "markdown",
   "metadata": {},
   "source": [
    "### Output to Image"
   ]
  },
  {
   "cell_type": "code",
   "execution_count": 30,
   "metadata": {},
   "outputs": [],
   "source": [
    "export_graphviz(decision_tree = tree_clf, out_file = './picture/tree.dot', feature_names = iris.feature_names, filled = True, \n",
    "                           class_names = iris.target_names, special_characters=True, rounded = True)"
   ]
  },
  {
   "cell_type": "markdown",
   "metadata": {},
   "source": [
    "### transform dot file to png file"
   ]
  },
  {
   "cell_type": "code",
   "execution_count": 31,
   "metadata": {},
   "outputs": [],
   "source": [
    "!dot -Tpng ./picture/tree.dot -o ./picture/tree.png "
   ]
  },
  {
   "cell_type": "code",
   "execution_count": 32,
   "metadata": {},
   "outputs": [
    {
     "data": {
      "text/plain": [
       "<matplotlib.image.AxesImage at 0x1c062630>"
      ]
     },
     "execution_count": 32,
     "metadata": {},
     "output_type": "execute_result"
    },
    {
     "data": {
      "image/png": "[encoded data removed]",
      "text/plain": [
       "<matplotlib.figure.Figure at 0x1bf36a58>"
      ]
     },
     "metadata": {},
     "output_type": "display_data"
    }
   ],
   "source": [
    "%matplotlib inline\n",
    "img=mpimg.imread('./picture/tree.png')\n",
    "plt.figure(figsize = (10, 8))\n",
    "plt.imshow(img)"
   ]
  }
 ],
 "metadata": {
  "kernelspec": {
   "display_name": "Python 3",
   "language": "python",
   "name": "python3"
  },
  "language_info": {
   "codemirror_mode": {
    "name": "ipython",
    "version": 3
   },
   "file_extension": ".py",
   "mimetype": "text/x-python",
   "name": "python",
   "nbconvert_exporter": "python",
   "pygments_lexer": "ipython3",
   "version": "3.6.4"
  },
  "toc": {
   "base_numbering": 1,
   "nav_menu": {},
   "number_sections": false,
   "sideBar": true,
   "skip_h1_title": false,
   "title_cell": "Table of Contents",
   "title_sidebar": "Contents",
   "toc_cell": false,
   "toc_position": {},
   "toc_section_display": true,
   "toc_window_display": false
  },
  "varInspector": {
   "cols": {
    "lenName": 16,
    "lenType": 16,
    "lenVar": 40
   },
   "kernels_config": {
    "python": {
     "delete_cmd_postfix": "",
     "delete_cmd_prefix": "del ",
     "library": "var_list.py",
     "varRefreshCmd": "print(var_dic_list())"
    },
    "r": {
     "delete_cmd_postfix": ") ",
     "delete_cmd_prefix": "rm(",
     "library": "var_list.r",
     "varRefreshCmd": "cat(var_dic_list()) "
    }
   },
   "types_to_exclude": [
    "module",
    "function",
    "builtin_function_or_method",
    "instance",
    "_Feature"
   ],
   "window_display": false
  }
 },
 "nbformat": 4,
 "nbformat_minor": 2
}
