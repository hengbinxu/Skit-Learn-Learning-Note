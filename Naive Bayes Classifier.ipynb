{
 "cells": [
  {
   "cell_type": "markdown",
   "metadata": {},
   "source": [
    "### Naive Bayes Classifier\n",
    "\n",
    " - Naive Bayes algorithm has `naive` assumption of independence between each pair of features and these features conform to Gaussian distribution.\n",
    "\n",
    "$$P(X|C_{1}) = P(x_{1}|C_{1})\\times\\ P(x_{2}|C_{1})\\times\\ P(x_{3}|C_{1}) ... \\times\\ P(x_{n}|C_{1}) = \\prod_{i = 1}^{n}P(x_{i}|C_{1})$$\n",
    "\n",
    " #### Use pima-indians.data file as our demonstration dataset.([download from here](https://raw.githubusercontent.com/jbrownlee/Datasets/master/pima-indians-diabetes.data.csv)).\n",
    " \n",
    " #### Data Description\n",
    " \n",
    " 1. Number of times pregnant\n",
    " 2. Plasma glucose concentration a 2 hours in an oral glucose tolerance test\n",
    " 3. Diastolic blood pressure (mm Hg)\n",
    " 4. Triceps skin fold thickness (mm)\n",
    " 5. 2-Hour serum insulin (mu U/ml)\n",
    " 6. Body mass index (weight in kg/(height in m)^2)\n",
    " 7. Diabetes pedigree function\n",
    " 8. Age (years)\n",
    " 9. Class variable (0 or 1)"
   ]
  },
  {
   "cell_type": "code",
   "execution_count": 1,
   "metadata": {},
   "outputs": [],
   "source": [
    "import pandas as pd\n",
    "import numpy as np\n",
    "import matplotlib.pyplot as plt\n",
    "import seaborn as sns\n",
    "from sklearn.model_selection import train_test_split "
   ]
  },
  {
   "cell_type": "code",
   "execution_count": 2,
   "metadata": {},
   "outputs": [],
   "source": [
    "var_names = [\"Pregnant\", \"Plg\", \"BP\", \"TSFT\", \"SI\", \"BMI\", \"DP\",\"Age\", \"Class\"]\n",
    "\n",
    "dat = list()\n",
    "with open(file = 'data\\\\Pima_indians.txt', mode = 'r+') as readfile:\n",
    "    for row in readfile:\n",
    "        dat.append(list(map(lambda x: float(x), row.split(sep = \",\"))))"
   ]
  },
  {
   "cell_type": "code",
   "execution_count": 3,
   "metadata": {},
   "outputs": [
    {
     "data": {
      "text/html": [
       "<div>\n",
       "<style scoped>\n",
       "    .dataframe tbody tr th:only-of-type {\n",
       "        vertical-align: middle;\n",
       "    }\n",
       "\n",
       "    .dataframe tbody tr th {\n",
       "        vertical-align: top;\n",
       "    }\n",
       "\n",
       "    .dataframe thead th {\n",
       "        text-align: right;\n",
       "    }\n",
       "</style>\n",
       "<table border=\"1\" class=\"dataframe\">\n",
       "  <thead>\n",
       "    <tr style=\"text-align: right;\">\n",
       "      <th></th>\n",
       "      <th>Pregnant</th>\n",
       "      <th>Plg</th>\n",
       "      <th>BP</th>\n",
       "      <th>TSFT</th>\n",
       "      <th>SI</th>\n",
       "      <th>BMI</th>\n",
       "      <th>DP</th>\n",
       "      <th>Age</th>\n",
       "      <th>Class</th>\n",
       "    </tr>\n",
       "  </thead>\n",
       "  <tbody>\n",
       "    <tr>\n",
       "      <th>0</th>\n",
       "      <td>6.0</td>\n",
       "      <td>148.0</td>\n",
       "      <td>72.0</td>\n",
       "      <td>35.0</td>\n",
       "      <td>0.0</td>\n",
       "      <td>33.6</td>\n",
       "      <td>0.627</td>\n",
       "      <td>50.0</td>\n",
       "      <td>1.0</td>\n",
       "    </tr>\n",
       "    <tr>\n",
       "      <th>1</th>\n",
       "      <td>1.0</td>\n",
       "      <td>85.0</td>\n",
       "      <td>66.0</td>\n",
       "      <td>29.0</td>\n",
       "      <td>0.0</td>\n",
       "      <td>26.6</td>\n",
       "      <td>0.351</td>\n",
       "      <td>31.0</td>\n",
       "      <td>0.0</td>\n",
       "    </tr>\n",
       "    <tr>\n",
       "      <th>2</th>\n",
       "      <td>8.0</td>\n",
       "      <td>183.0</td>\n",
       "      <td>64.0</td>\n",
       "      <td>0.0</td>\n",
       "      <td>0.0</td>\n",
       "      <td>23.3</td>\n",
       "      <td>0.672</td>\n",
       "      <td>32.0</td>\n",
       "      <td>1.0</td>\n",
       "    </tr>\n",
       "  </tbody>\n",
       "</table>\n",
       "</div>"
      ],
      "text/plain": [
       "   Pregnant    Plg    BP  TSFT   SI   BMI     DP   Age  Class\n",
       "0       6.0  148.0  72.0  35.0  0.0  33.6  0.627  50.0    1.0\n",
       "1       1.0   85.0  66.0  29.0  0.0  26.6  0.351  31.0    0.0\n",
       "2       8.0  183.0  64.0   0.0  0.0  23.3  0.672  32.0    1.0"
      ]
     },
     "execution_count": 3,
     "metadata": {},
     "output_type": "execute_result"
    }
   ],
   "source": [
    "df = pd.DataFrame(data = dat, columns = var_names)\n",
    "df.head(3)"
   ]
  },
  {
   "cell_type": "code",
   "execution_count": 4,
   "metadata": {},
   "outputs": [],
   "source": [
    "x = df.drop(columns = ['Class']).as_matrix()\n",
    "y = df['Class'].values"
   ]
  },
  {
   "cell_type": "code",
   "execution_count": 5,
   "metadata": {},
   "outputs": [],
   "source": [
    "x_train, x_test, y_train, y_test = train_test_split(x, y, test_size = 0.2)"
   ]
  },
  {
   "cell_type": "markdown",
   "metadata": {},
   "source": [
    "### Naive Bayes Classifier \n",
    "### [參數說明](http://scikit-learn.org/stable/modules/generated/sklearn.naive_bayes.GaussianNB.html):\n",
    "\n",
    "   - prior 輸入Y的先驗機率(Prior Probability)，若無輸入，將計算training set中 Y 各類別的先驗機率"
   ]
  },
  {
   "cell_type": "code",
   "execution_count": 6,
   "metadata": {},
   "outputs": [],
   "source": [
    "from sklearn.naive_bayes import GaussianNB"
   ]
  },
  {
   "cell_type": "code",
   "execution_count": 7,
   "metadata": {},
   "outputs": [
    {
     "data": {
      "text/plain": [
       "GaussianNB(priors=None)"
      ]
     },
     "execution_count": 7,
     "metadata": {},
     "output_type": "execute_result"
    }
   ],
   "source": [
    "NB = GaussianNB(priors = None)\n",
    "NB.fit(X = x_train, y = y_train)"
   ]
  },
  {
   "cell_type": "markdown",
   "metadata": {},
   "source": [
    "### Visualize Counting Number of each Class"
   ]
  },
  {
   "cell_type": "code",
   "execution_count": 8,
   "metadata": {},
   "outputs": [
    {
     "data": {
      "image/png": "[encoded data removed]",
      "text/plain": [
       "<matplotlib.figure.Figure at 0x1a058438>"
      ]
     },
     "metadata": {},
     "output_type": "display_data"
    }
   ],
   "source": [
    "plt.figure()\n",
    "plt.bar(x = range(len(NB.class_prior_)), height = NB.class_count_, color = 'lightcoral', width = 1, \n",
    "        align = 'center', edgecolor = 'k')\n",
    "plt.xticks(NB.classes_)\n",
    "plt.xlabel(s = 'Class')\n",
    "plt.ylabel(s = 'Counting Number')\n",
    "plt.title(\"Counting Number of each Class\")\n",
    "plt.show()"
   ]
  },
  {
   "cell_type": "markdown",
   "metadata": {},
   "source": [
    "### Visualize Prior Probability of each Class"
   ]
  },
  {
   "cell_type": "code",
   "execution_count": 9,
   "metadata": {},
   "outputs": [
    {
     "data": {
      "image/png": "[encoded data removed]",
      "text/plain": [
       "<matplotlib.figure.Figure at 0x1c0f99e8>"
      ]
     },
     "metadata": {},
     "output_type": "display_data"
    }
   ],
   "source": [
    "plt.figure()\n",
    "plt.bar(x = range(len(NB.class_prior_)), height = NB.class_prior_, color = 'burlywood', width = 1, \n",
    "        align = 'center', edgecolor = 'k')\n",
    "plt.xticks(NB.classes_)\n",
    "plt.xlabel(s = 'Class')\n",
    "plt.ylabel(s = 'Probability')\n",
    "plt.title(\"Prior Probability of each Class\")\n",
    "plt.show()"
   ]
  },
  {
   "cell_type": "code",
   "execution_count": 10,
   "metadata": {},
   "outputs": [
    {
     "name": "stdout",
     "output_type": "stream",
     "text": [
      "----------predict Output Class: ----------\n",
      "[1. 1. 0. 1. 0.]\n",
      "\n",
      "\n",
      "----------Predict Output Probability of each Class: ----------\n",
      "[[0.00309753 0.99690247]\n",
      " [0.31780542 0.68219458]\n",
      " [0.95416112 0.04583888]\n",
      " [0.38422508 0.61577492]\n",
      " [0.65681068 0.34318932]]\n"
     ]
    }
   ],
   "source": [
    "prediction = NB.predict(X = x_test)\n",
    "pred_prob = NB.predict_proba(X = x_test)\n",
    "print(\"-\"*10 + \"predict Output Class: \" + \"-\"*10)\n",
    "print(prediction[:5])\n",
    "\n",
    "print(\"\\n\")\n",
    "print(\"-\"*10 + \"Predict Output Probability of each Class: \"+ \"-\"*10)\n",
    "print(pred_prob[:5])"
   ]
  },
  {
   "cell_type": "code",
   "execution_count": 11,
   "metadata": {},
   "outputs": [],
   "source": [
    "from sklearn import metrics "
   ]
  },
  {
   "cell_type": "code",
   "execution_count": 12,
   "metadata": {},
   "outputs": [
    {
     "name": "stdout",
     "output_type": "stream",
     "text": [
      "Accuracy: 77.922%\n"
     ]
    }
   ],
   "source": [
    "#print(\"Accuracy: {0:.3f}%\".format(NB.score(X = x_test, y = y_test)*100)) # the same as `metrics.accuracy_score`\n",
    "print(\"Accuracy: {0:.3f}%\".format(metrics.accuracy_score(y_true = y_test, y_pred = prediction)*100))"
   ]
  },
  {
   "cell_type": "code",
   "execution_count": 13,
   "metadata": {},
   "outputs": [
    {
     "name": "stdout",
     "output_type": "stream",
     "text": [
      "             precision    recall  f1-score   support\n",
      "\n",
      "        0.0       0.78      0.87      0.82        92\n",
      "        1.0       0.77      0.65      0.70        62\n",
      "\n",
      "avg / total       0.78      0.78      0.78       154\n",
      "\n"
     ]
    }
   ],
   "source": [
    "print(metrics.classification_report(y_true = y_test, y_pred = prediction))"
   ]
  },
  {
   "cell_type": "markdown",
   "metadata": {},
   "source": [
    "### Visualize Confusion Matrix (by [Skit-Learning Official Websit](http://scikit-learn.org/stable/auto_examples/model_selection/plot_confusion_matrix.html))"
   ]
  },
  {
   "cell_type": "code",
   "execution_count": 14,
   "metadata": {},
   "outputs": [],
   "source": [
    "import itertools\n",
    "\n",
    "def plot_confusion_matrix(cm, classes,\n",
    "                          normalize=False,\n",
    "                          title='Confusion matrix',\n",
    "                          cmap=plt.cm.Blues):\n",
    "    \"\"\"\n",
    "    This function prints and plots the confusion matrix.\n",
    "    Normalization can be applied by setting `normalize=True`.\n",
    "    \"\"\"\n",
    "    if normalize:\n",
    "        cm = cm.astype('float') / cm.sum(axis=1)[:, np.newaxis]\n",
    "        print(\"Normalized confusion matrix\")\n",
    "    else:\n",
    "        print('Confusion matrix, without normalization')\n",
    "\n",
    "    print(cm)\n",
    "\n",
    "    plt.imshow(cm, interpolation='nearest', cmap=cmap)\n",
    "    plt.title(title)\n",
    "    plt.colorbar()\n",
    "    tick_marks = np.arange(len(classes))\n",
    "    plt.xticks(tick_marks, classes, rotation=45)\n",
    "    plt.yticks(tick_marks, classes)\n",
    "\n",
    "    fmt = '.2f' if normalize else 'd'\n",
    "    thresh = cm.max() / 2.\n",
    "    for i, j in itertools.product(range(cm.shape[0]), range(cm.shape[1])):\n",
    "        plt.text(j, i, format(cm[i, j], fmt),\n",
    "                 horizontalalignment=\"center\",\n",
    "                 color=\"white\" if cm[i, j] > thresh else \"black\")\n",
    "\n",
    "    plt.tight_layout()\n",
    "    plt.ylabel('True label')\n",
    "    plt.xlabel('Predicted label')"
   ]
  },
  {
   "cell_type": "code",
   "execution_count": 15,
   "metadata": {},
   "outputs": [
    {
     "name": "stdout",
     "output_type": "stream",
     "text": [
      "Confusion matrix, without normalization\n",
      "[[80 12]\n",
      " [22 40]]\n"
     ]
    },
    {
     "data": {
      "image/png": "[encoded data removed]",
      "text/plain": [
       "<matplotlib.figure.Figure at 0x1c0ed390>"
      ]
     },
     "metadata": {},
     "output_type": "display_data"
    }
   ],
   "source": [
    "confusion_matrix = metrics.confusion_matrix(y_true = y_test, y_pred = prediction)\n",
    "\n",
    "plot_confusion_matrix(cm = confusion_matrix, classes = ['0', '1'], cmap = plt.cm.Blues)"
   ]
  },
  {
   "cell_type": "markdown",
   "metadata": {},
   "source": [
    "### Visualize Decision Boundary (by [mlxtend](https://rasbt.github.io/mlxtend/))"
   ]
  },
  {
   "cell_type": "code",
   "execution_count": 16,
   "metadata": {},
   "outputs": [],
   "source": [
    "from mlxtend.plotting import plot_decision_regions"
   ]
  },
  {
   "cell_type": "code",
   "execution_count": 17,
   "metadata": {},
   "outputs": [],
   "source": [
    "x = df[['BMI', \"Age\"]]\n",
    "y = df['Class'].values"
   ]
  },
  {
   "cell_type": "code",
   "execution_count": 18,
   "metadata": {},
   "outputs": [],
   "source": [
    "x_train, x_test, y_train, y_test = train_test_split(x, y, test_size = 0.2)"
   ]
  },
  {
   "cell_type": "code",
   "execution_count": 19,
   "metadata": {},
   "outputs": [],
   "source": [
    "x_train = x_train.as_matrix()\n",
    "y_train = y_train.astype(np.int64)"
   ]
  },
  {
   "cell_type": "code",
   "execution_count": 20,
   "metadata": {},
   "outputs": [
    {
     "data": {
      "text/plain": [
       "GaussianNB(priors=None)"
      ]
     },
     "execution_count": 20,
     "metadata": {},
     "output_type": "execute_result"
    }
   ],
   "source": [
    "NB = GaussianNB()\n",
    "NB.fit(X = x_train, y = y_train)"
   ]
  },
  {
   "cell_type": "code",
   "execution_count": 21,
   "metadata": {},
   "outputs": [
    {
     "name": "stdout",
     "output_type": "stream",
     "text": [
      "Accuracy: 69.481 %\n"
     ]
    }
   ],
   "source": [
    "print(\"Accuracy: {0:.3f} %\".format(NB.score(X = x_test, y= y_test)*100))"
   ]
  },
  {
   "cell_type": "code",
   "execution_count": 22,
   "metadata": {},
   "outputs": [
    {
     "data": {
      "image/png": "[encoded data removed]",
      "text/plain": [
       "<matplotlib.figure.Figure at 0x1c2500b8>"
      ]
     },
     "metadata": {},
     "output_type": "display_data"
    }
   ],
   "source": [
    "plot_decision_regions(X = x_train, y = y_train, clf = NB, legend = 1)\n",
    "plt.title(s = \"Naive Bayes Decison Boundary\")\n",
    "plt.xlabel(\"BMI\")\n",
    "plt.ylabel(\"Age\")\n",
    "plt.show()"
   ]
  },
  {
   "cell_type": "markdown",
   "metadata": {},
   "source": [
    "### Visualize Decision Boundary  by matplotlib"
   ]
  },
  {
   "cell_type": "code",
   "execution_count": 23,
   "metadata": {},
   "outputs": [],
   "source": [
    "xmin, xmax = x['BMI'].min(), x['BMI'].max()\n",
    "ymin, ymax = x['Age'].min(), x['Age'].max()\n",
    "\n",
    "xx, yy = np.meshgrid(np.linspace(start = xmin - 1, stop = xmax + 1), np.linspace(start = ymin - 1, stop = ymax + 1))\n",
    "pair_data = np.c_[xx.ravel(), yy.ravel()]\n",
    "zz = NB.predict(X = pair_data)"
   ]
  },
  {
   "cell_type": "code",
   "execution_count": 24,
   "metadata": {},
   "outputs": [
    {
     "data": {
      "image/png": "[encoded data removed]",
      "text/plain": [
       "<matplotlib.figure.Figure at 0x1c2332b0>"
      ]
     },
     "metadata": {},
     "output_type": "display_data"
    }
   ],
   "source": [
    "zz = zz.reshape(xx.shape)\n",
    "#plt.contourf(xx, yy, zz, alpha = 0.75, cmap = plt.cm.Pastel2)\n",
    "#plt.contour(xx, yy, zz, linewidths = 0.5, colors = 'black')\n",
    "\n",
    "plt.pcolormesh(xx, yy, zz, cmap = plt.cm.Pastel2)\n",
    "\n",
    "for class_label in set(y_train):\n",
    "    plt.scatter(x = x_train[y_train == class_label, 0], y = x_train[y_train == class_label, 1], label = class_label)\n",
    "\n",
    "plt.title(\"Naive Bayes Decison Boundary\")\n",
    "plt.xlabel(\"BMI\")\n",
    "plt.ylabel('Age')\n",
    "plt.legend()\n",
    "plt.show()"
   ]
  }
 ],
 "metadata": {
  "kernelspec": {
   "display_name": "Python 3",
   "language": "python",
   "name": "python3"
  },
  "language_info": {
   "codemirror_mode": {
    "name": "ipython",
    "version": 3
   },
   "file_extension": ".py",
   "mimetype": "text/x-python",
   "name": "python",
   "nbconvert_exporter": "python",
   "pygments_lexer": "ipython3",
   "version": "3.6.4"
  },
  "toc": {
   "base_numbering": 1,
   "nav_menu": {},
   "number_sections": false,
   "sideBar": true,
   "skip_h1_title": false,
   "title_cell": "Table of Contents",
   "title_sidebar": "Contents",
   "toc_cell": false,
   "toc_position": {},
   "toc_section_display": true,
   "toc_window_display": false
  },
  "varInspector": {
   "cols": {
    "lenName": 16,
    "lenType": 16,
    "lenVar": 40
   },
   "kernels_config": {
    "python": {
     "delete_cmd_postfix": "",
     "delete_cmd_prefix": "del ",
     "library": "var_list.py",
     "varRefreshCmd": "print(var_dic_list())"
    },
    "r": {
     "delete_cmd_postfix": ") ",
     "delete_cmd_prefix": "rm(",
     "library": "var_list.r",
     "varRefreshCmd": "cat(var_dic_list()) "
    }
   },
   "types_to_exclude": [
    "module",
    "function",
    "builtin_function_or_method",
    "instance",
    "_Feature"
   ],
   "window_display": false
  }
 },
 "nbformat": 4,
 "nbformat_minor": 2
}
