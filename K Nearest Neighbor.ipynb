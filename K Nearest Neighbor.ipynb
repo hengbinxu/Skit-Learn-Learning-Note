{
 "cells": [
  {
   "cell_type": "markdown",
   "metadata": {},
   "source": [
    "### K Nearest Neighbors Algorithm\n",
    "\n",
    "<img src=\"./picture/KNN.PNG\" width=\"450\" heigh = \"300\" align = \"middle\">\n",
    "\n",
    "Example of k-NN classification. The test sample (green circle) should be classified either to the first class of blue squares or to the second class of red triangles. If k = 3 (solid line circle) it is assigned to the second class because there are 2 triangles and only 1 square inside the inner circle. If k = 5 (dashed line circle) it is assigned to the first class (3 squares vs. 2 triangles inside the outer circle).\n",
    "\n",
    "#### Reference:\n",
    "#### [A Quick Introduction to K-Nearest Neighbors Algorithm](https://medium.com/@adi.bronshtein/a-quick-introduction-to-k-nearest-neighbors-algorithm-62214cea29c7)"
   ]
  },
  {
   "cell_type": "code",
   "execution_count": 1,
   "metadata": {},
   "outputs": [],
   "source": [
    "import numpy as np\n",
    "import pandas as pd\n",
    "import matplotlib.pyplot as plt\n",
    "from sklearn import datasets\n",
    "from sklearn.neighbors import KNeighborsClassifier\n",
    "from sklearn.neighbors import RadiusNeighborsClassifier\n",
    "from sklearn import metrics\n",
    "from sklearn.neighbors import DistanceMetric\n",
    "from sklearn.model_selection import train_test_split\n",
    "from sklearn.preprocessing import StandardScaler"
   ]
  },
  {
   "cell_type": "code",
   "execution_count": 2,
   "metadata": {},
   "outputs": [],
   "source": [
    "iris = datasets.load_iris()"
   ]
  },
  {
   "cell_type": "code",
   "execution_count": 3,
   "metadata": {},
   "outputs": [
    {
     "data": {
      "text/html": [
       "<div>\n",
       "<style scoped>\n",
       "    .dataframe tbody tr th:only-of-type {\n",
       "        vertical-align: middle;\n",
       "    }\n",
       "\n",
       "    .dataframe tbody tr th {\n",
       "        vertical-align: top;\n",
       "    }\n",
       "\n",
       "    .dataframe thead th {\n",
       "        text-align: right;\n",
       "    }\n",
       "</style>\n",
       "<table border=\"1\" class=\"dataframe\">\n",
       "  <thead>\n",
       "    <tr style=\"text-align: right;\">\n",
       "      <th></th>\n",
       "      <th>sepal length (cm)</th>\n",
       "      <th>sepal width (cm)</th>\n",
       "      <th>petal length (cm)</th>\n",
       "      <th>petal width (cm)</th>\n",
       "      <th>species</th>\n",
       "    </tr>\n",
       "  </thead>\n",
       "  <tbody>\n",
       "    <tr>\n",
       "      <th>0</th>\n",
       "      <td>5.1</td>\n",
       "      <td>3.5</td>\n",
       "      <td>1.4</td>\n",
       "      <td>0.2</td>\n",
       "      <td>0.0</td>\n",
       "    </tr>\n",
       "    <tr>\n",
       "      <th>1</th>\n",
       "      <td>4.9</td>\n",
       "      <td>3.0</td>\n",
       "      <td>1.4</td>\n",
       "      <td>0.2</td>\n",
       "      <td>0.0</td>\n",
       "    </tr>\n",
       "    <tr>\n",
       "      <th>2</th>\n",
       "      <td>4.7</td>\n",
       "      <td>3.2</td>\n",
       "      <td>1.3</td>\n",
       "      <td>0.2</td>\n",
       "      <td>0.0</td>\n",
       "    </tr>\n",
       "  </tbody>\n",
       "</table>\n",
       "</div>"
      ],
      "text/plain": [
       "   sepal length (cm)  sepal width (cm)  petal length (cm)  petal width (cm)  \\\n",
       "0                5.1               3.5                1.4               0.2   \n",
       "1                4.9               3.0                1.4               0.2   \n",
       "2                4.7               3.2                1.3               0.2   \n",
       "\n",
       "   species  \n",
       "0      0.0  \n",
       "1      0.0  \n",
       "2      0.0  "
      ]
     },
     "execution_count": 3,
     "metadata": {},
     "output_type": "execute_result"
    }
   ],
   "source": [
    "df_arr = np.concatenate((iris.data, iris.target.reshape((-1, 1))), axis = 1)\n",
    "col_names = iris.feature_names.copy()\n",
    "col_names.append('species')\n",
    "iris_df = pd.DataFrame(data = df_arr, columns = col_names)\n",
    "iris_df.head(3)"
   ]
  },
  {
   "cell_type": "code",
   "execution_count": 4,
   "metadata": {},
   "outputs": [
    {
     "data": {
      "text/plain": [
       "{0: 'setosa', 1: 'versicolor', 2: 'virginica'}"
      ]
     },
     "execution_count": 4,
     "metadata": {},
     "output_type": "execute_result"
    }
   ],
   "source": [
    "map_dic = {num: name for num, name, in zip(range(3), iris.target_names)}\n",
    "map_dic"
   ]
  },
  {
   "cell_type": "code",
   "execution_count": 5,
   "metadata": {},
   "outputs": [],
   "source": [
    "def plot_scatter(data, x_axis, y_axis, class_name):\n",
    "    plt.figure()\n",
    "    \n",
    "    sel_data = data[[x_axis, y_axis, class_name]]\n",
    "    class_num = sel_data[class_name].unique().astype(np.int64)\n",
    "    for num in class_num:\n",
    "        x = sel_data[x_axis][sel_data[class_name] == num]\n",
    "        y = sel_data[y_axis][sel_data[class_name] == num]\n",
    "        plt.scatter(x = x, y = y, color = ['r', 'g', 'b'][num], label = map_dic[num])\n",
    "\n",
    "    plt.legend()\n",
    "    plt.xlabel(x_axis)\n",
    "    plt.ylabel(y_axis)\n",
    "    plt.show()"
   ]
  },
  {
   "cell_type": "code",
   "execution_count": 6,
   "metadata": {},
   "outputs": [
    {
     "data": {
      "image/png": "[encoded data removed]",
      "text/plain": [
       "<matplotlib.figure.Figure at 0x19d81b00>"
      ]
     },
     "metadata": {},
     "output_type": "display_data"
    }
   ],
   "source": [
    "plot_scatter(data = iris_df, x_axis = 'sepal length (cm)', y_axis = 'petal length (cm)', class_name = 'species')"
   ]
  },
  {
   "cell_type": "code",
   "execution_count": 7,
   "metadata": {},
   "outputs": [],
   "source": [
    "x = iris_df[['sepal length (cm)', 'petal length (cm)']]\n",
    "y = iris_df['species'].astype(np.int64).values"
   ]
  },
  {
   "cell_type": "code",
   "execution_count": 8,
   "metadata": {},
   "outputs": [],
   "source": [
    "sc = StandardScaler()\n",
    "sc.fit(x)\n",
    "trans_x = sc.fit_transform(x)"
   ]
  },
  {
   "cell_type": "code",
   "execution_count": 9,
   "metadata": {},
   "outputs": [],
   "source": [
    "x_train, x_test, y_train, y_test = train_test_split(trans_x, y, test_size = 0.2)"
   ]
  },
  {
   "cell_type": "markdown",
   "metadata": {},
   "source": [
    "### K Nearest Neighbor Algorithm\n",
    "   1. **Nearest Neighbors**\n",
    "   2. **Radius Neighbors**\n",
    "   \n",
    "### [Nearest Neighbor 參數說明:](http://scikit-learn.org/stable/modules/generated/sklearn.neighbors.KNeighborsClassifier.html)\n",
    " - `n_nighbors`: 選取幾個鄰近點，當作標準\n",
    " - `weights`: 設定權重，`uniform`表示不管距離多遠，資料只要在 `n_nighbors`中，資料的權重都一樣，若設定為`distance`，則距離愈遠，權重愈小\n",
    " - `algorithm`: 使用什麼演算法，來計算 `n_nighbors`，有`kd_tree`、`ball_tree`和`brute`，若選擇`auto`，則會自動挑選適合資料的演算法\n",
    " - `metric`: 使用什麼距離，來判斷兩點之間的距離，default = `\"minkowski\"`, 詳細其他距離可參考 [sklearn.neighbors.DistanceMetric](http://scikit-learn.org/stable/modules/generated/sklearn.neighbors.KNeighborsClassifier.html)\n",
    " - `p`: `minkowski` distance 中的超參數`p`，when `p=1` equivalent to use `manhattan`distance, and `euclidean`distance for `p=2`."
   ]
  },
  {
   "cell_type": "code",
   "execution_count": 10,
   "metadata": {},
   "outputs": [
    {
     "data": {
      "text/plain": [
       "KNeighborsClassifier(algorithm='auto', leaf_size=30, metric='minkowski',\n",
       "           metric_params=None, n_jobs=1, n_neighbors=5, p=2,\n",
       "           weights='uniform')"
      ]
     },
     "execution_count": 10,
     "metadata": {},
     "output_type": "execute_result"
    }
   ],
   "source": [
    "knn = KNeighborsClassifier(n_neighbors = 5, weights = 'uniform', algorithm = 'auto', metric = 'minkowski', p = 2)\n",
    "knn.fit(X = x_train, y = y_train)"
   ]
  },
  {
   "cell_type": "code",
   "execution_count": 11,
   "metadata": {},
   "outputs": [],
   "source": [
    "prediction = knn.predict(X = x_test)"
   ]
  },
  {
   "cell_type": "code",
   "execution_count": 12,
   "metadata": {},
   "outputs": [
    {
     "name": "stdout",
     "output_type": "stream",
     "text": [
      "accuracy: 83.333%\n",
      "-------------------------\n",
      "             precision    recall  f1-score   support\n",
      "\n",
      "     setosa       1.00      1.00      1.00         9\n",
      " versicolor       0.88      0.64      0.74        11\n",
      "  virginica       0.69      0.90      0.78        10\n",
      "\n",
      "avg / total       0.85      0.83      0.83        30\n",
      "\n",
      "-------------------------\n",
      "[[9 0 0]\n",
      " [0 7 4]\n",
      " [0 1 9]]\n"
     ]
    }
   ],
   "source": [
    "print('accuracy: {:.3f}%'.format(knn.score(X = x_test, y = y_test)*100))\n",
    "print(\"-\"*25)\n",
    "print(metrics.classification_report(y_true = y_test, y_pred = prediction, target_names = map_dic.values()))\n",
    "print(\"-\"*25)\n",
    "print(metrics.confusion_matrix(y_true = y_test, y_pred = prediction))"
   ]
  },
  {
   "cell_type": "markdown",
   "metadata": {},
   "source": [
    "### Visualize Decision Boundary"
   ]
  },
  {
   "cell_type": "code",
   "execution_count": 13,
   "metadata": {},
   "outputs": [
    {
     "data": {
      "image/png": "[encoded data removed]",
      "text/plain": [
       "<matplotlib.figure.Figure at 0x1beb9748>"
      ]
     },
     "metadata": {},
     "output_type": "display_data"
    }
   ],
   "source": [
    "x_min, x_max, y_min, y_max = trans_x[:,0].min(), trans_x[:,0].max(), trans_x[:,1].min(), trans_x[:,1].max()\n",
    "\n",
    "xx, yy = np.meshgrid(np.linspace(start = x_min - 1, stop = x_max + 1), np.linspace(start = y_min - 1, stop = y_max + 1))\n",
    "\n",
    "pair_data = np.c_[xx.ravel(), yy.ravel()]\n",
    "\n",
    "zz = knn.predict(X = pair_data)\n",
    "\n",
    "zz = zz.reshape(xx.shape)\n",
    "\n",
    "plt.figure()\n",
    "plt.pcolormesh(xx, yy, zz, cmap = plt.cm.Pastel2)\n",
    "\n",
    "for class_num in np.unique(y):\n",
    "    plot_x = trans_x[y == class_num, 0]\n",
    "    plot_y = trans_x[y == class_num, 1]\n",
    "    plt.scatter(x = plot_x, y = plot_y, color = ['r', 'g', 'b'][class_num], label = map_dic[class_num], alpha = 0.7)\n",
    "    \n",
    "plt.legend()\n",
    "plt.xlabel('sepal lenght (cm)')\n",
    "plt.ylabel('petal lenght (cm)')\n",
    "plt.show()"
   ]
  },
  {
   "cell_type": "markdown",
   "metadata": {},
   "source": [
    "### Tune the best `n_nieighbors`\n",
    "\n",
    "Tuning hyper parameter is an important topic in ML, we will discuss in `traing technique` session.\n",
    "\n",
    "In this part, we just simplily demonstrate how to tune `n_neighbors`."
   ]
  },
  {
   "cell_type": "code",
   "execution_count": 14,
   "metadata": {},
   "outputs": [
    {
     "data": {
      "image/png": "[encoded data removed]",
      "text/plain": [
       "<matplotlib.figure.Figure at 0x1bed8c18>"
      ]
     },
     "metadata": {},
     "output_type": "display_data"
    }
   ],
   "source": [
    "n_parameter = np.arange(1, 10)\n",
    "acc = list()\n",
    "for n in n_parameter:\n",
    "    knn = KNeighborsClassifier(n_neighbors = n, weights = 'uniform', algorithm = 'auto', metric = 'minkowski', p = 2)\n",
    "    knn.fit(X = x_train, y = y_train)\n",
    "    acc.append(knn.score(X = x_test, y = y_test))\n",
    "\n",
    "plt.style.use('ggplot')\n",
    "plt.plot(n_parameter, acc, label = 'accuracy')\n",
    "plt.legend()\n",
    "plt.show()"
   ]
  },
  {
   "cell_type": "markdown",
   "metadata": {},
   "source": [
    "### [Radius Neighbor 參數說明 :](http://scikit-learn.org/stable/modules/generated/sklearn.neighbors.RadiusNeighborsClassifier.html)\n",
    "\n",
    " - `radius`: 根據多少距離內的樣本，來決定類別\n",
    " - `weights`: 設定權重，`uniform`表示不管距離多遠，資料只要在 `radius`中，資料的權重都一樣，若設定為`distance`，則距離愈遠，權重愈小\n",
    " - `algorithm`: 使用什麼演算法，來計算 neast neighbors，有`kd_tree`、`ball_tree`和`brute`，若選擇`auto`，則會自動挑選適合資料的演算法\n",
    " - `metric`: 使用什麼距離，來判斷兩點之間的距離，default = `\"minkowski\"`, 詳細其他距離可參考 [sklearn.neighbors.DistanceMetric](http://scikit-learn.org/stable/modules/generated/sklearn.neighbors.KNeighborsClassifier.html)\n",
    " - `p`: `minkowski` distance 中的超參數`p`，when `p=1` equivalent to use `manhattan`distance, and `euclidean`distance for `p=2`.\n"
   ]
  },
  {
   "cell_type": "code",
   "execution_count": 15,
   "metadata": {},
   "outputs": [
    {
     "data": {
      "text/plain": [
       "RadiusNeighborsClassifier(algorithm='auto', leaf_size=30, metric='minkowski',\n",
       "             metric_params=None, outlier_label=None, p=2, radius=0.5,\n",
       "             weights='uniform')"
      ]
     },
     "execution_count": 15,
     "metadata": {},
     "output_type": "execute_result"
    }
   ],
   "source": [
    "rnclf = RadiusNeighborsClassifier(radius = 0.5, weights = \"uniform\", algorithm = \"auto\", metric = \"minkowski\", p = 2)\n",
    "rnclf.fit(X = x_train, y = y_train)"
   ]
  },
  {
   "cell_type": "code",
   "execution_count": 16,
   "metadata": {},
   "outputs": [
    {
     "name": "stdout",
     "output_type": "stream",
     "text": [
      "accuracy: 83.333%\n",
      "-------------------------\n",
      "             precision    recall  f1-score   support\n",
      "\n",
      "     setosa       1.00      1.00      1.00         9\n",
      " versicolor       0.88      0.64      0.74        11\n",
      "  virginica       0.69      0.90      0.78        10\n",
      "\n",
      "avg / total       0.85      0.83      0.83        30\n",
      "\n",
      "-------------------------\n",
      "[[9 0 0]\n",
      " [0 7 4]\n",
      " [0 1 9]]\n"
     ]
    }
   ],
   "source": [
    "prediction = rnclf.predict(X = x_test)\n",
    "\n",
    "print('accuracy: {:.3f}%'.format(rnclf.score(X = x_test, y = y_test)*100))\n",
    "print(\"-\"*25)\n",
    "print(metrics.classification_report(y_true = y_test, y_pred = prediction, target_names = map_dic.values()))\n",
    "print(\"-\"*25)\n",
    "print(metrics.confusion_matrix(y_true = y_test, y_pred = prediction))"
   ]
  },
  {
   "cell_type": "markdown",
   "metadata": {},
   "source": [
    "### K Nearest Neighbors Regressor\n",
    "\n",
    "#### KNN algorithm also can apply on regression problems.\n",
    "\n",
    "  - [KNeighborsRegressor參數說明:](http://scikit-learn.org/stable/modules/generated/sklearn.neighbors.KNeighborsRegressor.html)\n",
    "    - the same as `KNeighborsClassifier`\n",
    "  "
   ]
  },
  {
   "cell_type": "code",
   "execution_count": 17,
   "metadata": {},
   "outputs": [],
   "source": [
    "from sklearn.neighbors import KNeighborsRegressor\n",
    "from sklearn.neighbors import RadiusNeighborsRegressor"
   ]
  },
  {
   "cell_type": "code",
   "execution_count": 18,
   "metadata": {},
   "outputs": [
    {
     "data": {
      "image/png": "[encoded data removed]",
      "text/plain": [
       "<matplotlib.figure.Figure at 0x1bead8d0>"
      ]
     },
     "metadata": {},
     "output_type": "display_data"
    }
   ],
   "source": [
    "# generate data\n",
    "plt.style.use(style = 'ggplot')\n",
    "x = np.linspace(start = -1, stop = 1, num = 200)\n",
    "np.random.shuffle(x)\n",
    "\n",
    "y = 0.5*x + 3 + np.random.normal(loc = 0, scale = 0.05, size = (x.shape[0]))\n",
    "x = x.reshape(-1, 1)\n",
    "plt.scatter(x, y)\n",
    "plt.show()"
   ]
  },
  {
   "cell_type": "code",
   "execution_count": 19,
   "metadata": {},
   "outputs": [],
   "source": [
    "x_train, x_test, y_train, y_test = train_test_split(x, y, test_size = 0.2)"
   ]
  },
  {
   "cell_type": "code",
   "execution_count": 20,
   "metadata": {},
   "outputs": [
    {
     "data": {
      "text/plain": [
       "KNeighborsRegressor(algorithm='auto', leaf_size=30, metric='minkowski',\n",
       "          metric_params=None, n_jobs=1, n_neighbors=5, p=2,\n",
       "          weights='uniform')"
      ]
     },
     "execution_count": 20,
     "metadata": {},
     "output_type": "execute_result"
    }
   ],
   "source": [
    "knreg = KNeighborsRegressor(n_neighbors = 5, weights = 'uniform', algorithm = 'auto', p = 2, metric = 'minkowski')\n",
    "knreg.fit(X = x_train, y = y_train)"
   ]
  },
  {
   "cell_type": "code",
   "execution_count": 21,
   "metadata": {},
   "outputs": [
    {
     "name": "stdout",
     "output_type": "stream",
     "text": [
      "R square: 0.96\n",
      "Mean Square Error: 0.003\n"
     ]
    }
   ],
   "source": [
    "prediction = knreg.predict(X = x_test)\n",
    "print(\"R square: {:.2f}\".format(knreg.score(X = x_test, y = y_test)))\n",
    "print(\"Mean Square Error: {:.3f}\".format(np.mean((prediction - y_test)**2)))"
   ]
  },
  {
   "cell_type": "code",
   "execution_count": 22,
   "metadata": {},
   "outputs": [
    {
     "data": {
      "image/png": "[encoded data removed]",
      "text/plain": [
       "<matplotlib.figure.Figure at 0x1c05c860>"
      ]
     },
     "metadata": {},
     "output_type": "display_data"
    }
   ],
   "source": [
    "plt.figure()\n",
    "\n",
    "temp_x = np.linspace(start = x_test.min(), stop = x_test.max(), num = 600).reshape(-1, 1)\n",
    "plt.scatter(x = x_test, y = y_test)\n",
    "plt.plot(temp_x, knreg.predict(temp_x), color = 'g', linestyle= '-')\n",
    "plt.xticks(np.linspace(start = x_test.min(), stop = x_test.max(), num = 3))\n",
    "plt.show()"
   ]
  },
  {
   "cell_type": "markdown",
   "metadata": {},
   "source": [
    "### RadiusNeighborsRegresor\n",
    "\n",
    "### [參數說明:](http://scikit-learn.org/stable/modules/generated/sklearn.neighbors.RadiusNeighborsRegressor.html)\n",
    "   - The same as `RadiusNeighborsClassifier`"
   ]
  },
  {
   "cell_type": "code",
   "execution_count": 23,
   "metadata": {},
   "outputs": [
    {
     "data": {
      "text/plain": [
       "RadiusNeighborsRegressor(algorithm='auto', leaf_size=30, metric='minkowski',\n",
       "             metric_params=None, p=2, radius=0.05, weights='uniform')"
      ]
     },
     "execution_count": 23,
     "metadata": {},
     "output_type": "execute_result"
    }
   ],
   "source": [
    "radreg = RadiusNeighborsRegressor(radius = 0.05, weights = 'uniform', algorithm = 'auto', p = 2, metric = 'minkowski')\n",
    "radreg.fit(X = x_train, y = y_train)"
   ]
  },
  {
   "cell_type": "code",
   "execution_count": 24,
   "metadata": {},
   "outputs": [
    {
     "name": "stdout",
     "output_type": "stream",
     "text": [
      "R square: 0.97\n",
      "Mean Square Error: 0.003\n"
     ]
    }
   ],
   "source": [
    "prediction = radreg.predict(X = x_test)\n",
    "print(\"R square: {:.2f}\".format(radreg.score(X = x_test, y = y_test)))\n",
    "print(\"Mean Square Error: {:.3f}\".format(np.mean((prediction - y_test)**2)))"
   ]
  },
  {
   "cell_type": "code",
   "execution_count": 25,
   "metadata": {},
   "outputs": [
    {
     "data": {
      "image/png": "[encoded data removed]",
      "text/plain": [
       "<matplotlib.figure.Figure at 0x1c18f2b0>"
      ]
     },
     "metadata": {},
     "output_type": "display_data"
    }
   ],
   "source": [
    "plt.figure()\n",
    "\n",
    "temp_x = np.linspace(start = x_test.min(), stop = x_test.max(), num = 600).reshape(-1, 1)\n",
    "plt.scatter(x = x_test, y = y_test)\n",
    "plt.plot(temp_x, radreg.predict(temp_x), color = 'g', linestyle= '-')\n",
    "plt.xticks(np.linspace(start = x_test.min(), stop = x_test.max(), num = 3))\n",
    "plt.show()"
   ]
  },
  {
   "cell_type": "markdown",
   "metadata": {},
   "source": [
    "### sklearn.neighbors.DistanceMetric\n",
    "\n",
    " - **歐式距離(Euclidean Distance)**\n",
    "    \n",
    "    $a = (x_1, y_1)$, $ \\ b = (x_2, y_2)$\n",
    "    \n",
    "    $d_{12}=\\sqrt{(x_{1}-x_{2})^2 + (y_{1} - y_{2})^2}$\n",
    "    \n",
    "    **If a and b have n dimension**\n",
    "    \n",
    "    $a = (x_{11}, x_{12}, x_{13}, ....., x_{1n})$, $ \\ b = (x_{21}, x_{22}, x_{23}, ....., x_{2n})$\n",
    "    \n",
    "    $d_{ab}=\\sqrt{\\sum_{k = 1}^{n}(x_{1k} - x_{2k})^2} = \\sqrt{(a - b)^{T}(a - b)}$"
   ]
  },
  {
   "cell_type": "code",
   "execution_count": 26,
   "metadata": {},
   "outputs": [
    {
     "name": "stdout",
     "output_type": "stream",
     "text": [
      "[[0. 5.]\n",
      " [5. 0.]]\n",
      "distance: 5.00\n"
     ]
    }
   ],
   "source": [
    "a = np.array([0, 0]).reshape(1, 2)\n",
    "b = np.array([4, 3]).reshape(1, 2)\n",
    "two_point = np.concatenate((a, b), axis = 0)\n",
    "\n",
    "dist = DistanceMetric.get_metric('euclidean')\n",
    "dist_matrix = dist.pairwise(two_point) # return distance matrix\n",
    "distance = np.around(dist_matrix[1, 0], decimals = 3)\n",
    "print(dist_matrix)\n",
    "\n",
    "def euclidean_distance(a, b):\n",
    "    return np.sqrt(((a - b)**2).sum())\n",
    "\n",
    "print(\"distance:{: .2f}\".format(euclidean_distance(a, b)))"
   ]
  },
  {
   "cell_type": "code",
   "execution_count": 27,
   "metadata": {},
   "outputs": [],
   "source": [
    "def plot_euclidean_distance(a, b):\n",
    "    \n",
    "    a = np.array(a).reshape(1, 2)\n",
    "    b = np.array(b).reshape(1, 2)\n",
    "    \n",
    "    two_point = np.concatenate((a, b), axis = 0)\n",
    "\n",
    "    dist = DistanceMetric.get_metric('euclidean')\n",
    "    dist_matrix = dist.pairwise(two_point) # return distance matrix\n",
    "    distance = np.around(dist_matrix[1, 0], decimals = 3)\n",
    "    \n",
    "    midpoint = (a + b)/2\n",
    "    x_dist = np.abs(a[:, 0] - b[:, 0]) # calculate x-axis distance between two points \n",
    "    y_dist = np.abs(a[:, 1] - b[:, 1]) # calculate y-axis distance between two points\n",
    "\n",
    "    x_axis = (a[:, 0] + b[:, 0])/2 # calculate midpoint coordinate of x-axis between two points \n",
    "    y_axis = (a[:, 1] + b[:, 1])/2 # calculate midpoint coordinate of y-axis between two points \n",
    "\n",
    "    plt.figure(figsize = (3, 3))\n",
    "    plt.plot(two_point[:, 0], two_point[:, 1], 'bo')\n",
    "    plt.plot(two_point[:, 0], two_point[:, 1], 'g--')\n",
    "\n",
    "    x_vertical = np.where(a[:, 1] > b[:, 1], a[:, 0], b[:, 0])\n",
    "    y_horizontal = np.where(a[:, 1] < b[:, 1], a[:, 1], b[:, 1])\n",
    "\n",
    "    plt.hlines(y = y_horizontal, xmin = two_point[:, 0].min(), xmax = two_point[:, 0].max(), color = 'r', linestyles = '--')\n",
    "    plt.vlines(x = x_vertical, ymin = two_point[:, 1].min(), ymax = two_point[:, 1].max(), color = 'orange', linestyles = '--')\n",
    "\n",
    "    plt.text(x = midpoint[:, 0], y = midpoint[:, 1] + 0.05, s = 'd = ' + str(distance))\n",
    "    plt.text(x = x_axis, y = y_horizontal, s = x_dist[0]) # adding text on the y-horizontal line\n",
    "    plt.text(x = x_vertical, y = y_axis, s = y_dist[0]) # adding text on the x-vertical line\n",
    "\n",
    "    #plt.xticks(np.arange(start = two_point[:, 0].min() - 1, stop = two_point[:, 0].max() + 2))\n",
    "    #plt.yticks(np.arange(start = two_point[:, 1].min() - 1, stop = two_point[:, 1].max() + 2))\n",
    "    plt.show()"
   ]
  },
  {
   "cell_type": "code",
   "execution_count": 28,
   "metadata": {},
   "outputs": [
    {
     "data": {
      "image/png": "[encoded data removed]",
      "text/plain": [
       "<matplotlib.figure.Figure at 0x1c1ffba8>"
      ]
     },
     "metadata": {},
     "output_type": "display_data"
    }
   ],
   "source": [
    "plot_euclidean_distance(a = [12, 6], b = [16, 3])"
   ]
  },
  {
   "cell_type": "markdown",
   "metadata": {},
   "source": [
    " - **曼哈頓距離(Manhattan Distance)**\n",
    " \n",
    "   $a = (x_1, y_1)$, $ \\ b = (x_2, y_2)$\n",
    "   \n",
    "   $d_{12} =\\ \\mid x_{1} - x_{2}\\mid + \\mid y_{1} - y_{2}\\mid$\n",
    "   \n",
    "   **If a and b have n dimension**\n",
    "    \n",
    "   $a = (x_{11}, x_{12}, x_{13}, ....., x_{1n})$, $ \\ b = (x_{21}, x_{22}, x_{23}, ....., x_{2n})$\n",
    "    \n",
    "   $d_{ab}=\\sum_{k = 1}^{n}\\mid x_{1k} - x_{2k}\\mid$"
   ]
  },
  {
   "cell_type": "code",
   "execution_count": 29,
   "metadata": {},
   "outputs": [
    {
     "name": "stdout",
     "output_type": "stream",
     "text": [
      "[[0. 7.]\n",
      " [7. 0.]]\n"
     ]
    }
   ],
   "source": [
    "a = np.array([0, 0]).reshape(1, 2)\n",
    "b = np.array([4, 3]).reshape(1, 2)\n",
    "two_point = np.concatenate((a, b), axis = 0)\n",
    "\n",
    "dist = DistanceMetric.get_metric('manhattan')\n",
    "dist_matrix = dist.pairwise(two_point) # return distance matrix\n",
    "print(dist_matrix)"
   ]
  },
  {
   "cell_type": "code",
   "execution_count": 30,
   "metadata": {},
   "outputs": [
    {
     "data": {
      "text/plain": [
       "7"
      ]
     },
     "execution_count": 30,
     "metadata": {},
     "output_type": "execute_result"
    }
   ],
   "source": [
    "def manhattan_distance(a, b):\n",
    "    return np.abs(a[:, 0] - b[:, 0]) + np.abs(a[:, 1] - b[:, 1])\n",
    "\n",
    "manhattan_distance(a, b)[0]"
   ]
  },
  {
   "cell_type": "markdown",
   "metadata": {},
   "source": [
    " - **柴比雪夫距離(Chebyshev Distance)**\n",
    " \n",
    "   $a = (x_1, y_1)$, $ \\ b = (x_2, y_2)$\n",
    "   \n",
    "   $d_{12} =\\ max(\\mid x_{1} - x_{2}\\mid, \\ \\mid y_{1} - y_{2}\\mid)$\n",
    "   \n",
    "    **If a and b have n dimension**\n",
    "    \n",
    "   $a = (x_{11}, x_{12}, x_{13}, ....., x_{1n})$, $ \\ b = (x_{21}, x_{22}, x_{23}, ....., x_{2n})$\n",
    "    \n",
    "   $d_{ab}= max(\\mid x_{1k} - x_{2k}\\mid)$"
   ]
  },
  {
   "cell_type": "code",
   "execution_count": 31,
   "metadata": {},
   "outputs": [
    {
     "name": "stdout",
     "output_type": "stream",
     "text": [
      "[[0. 4.]\n",
      " [4. 0.]]\n"
     ]
    }
   ],
   "source": [
    "a = np.array([0, 0]).reshape(1, 2)\n",
    "b = np.array([4, 3]).reshape(1, 2)\n",
    "two_point = np.concatenate((a, b), axis = 0)\n",
    "\n",
    "dist = DistanceMetric.get_metric('chebyshev')\n",
    "dist_matrix = dist.pairwise(two_point)\n",
    "print(dist_matrix)"
   ]
  },
  {
   "cell_type": "code",
   "execution_count": 32,
   "metadata": {},
   "outputs": [],
   "source": [
    "def chebyshev_distance(a, b):\n",
    "    if len(a) != len(b) :\n",
    "        raise ValueError\n",
    "    else:\n",
    "        return np.max(np.abs(a - b))"
   ]
  },
  {
   "cell_type": "code",
   "execution_count": 33,
   "metadata": {},
   "outputs": [
    {
     "data": {
      "text/plain": [
       "4"
      ]
     },
     "execution_count": 33,
     "metadata": {},
     "output_type": "execute_result"
    }
   ],
   "source": [
    "chebyshev_distance(a, b)"
   ]
  },
  {
   "cell_type": "markdown",
   "metadata": {},
   "source": [
    "- **閔可夫斯基(Minkowski Distance)**\n",
    "  - The Minkowski distance is a metric in a normed vector space which can be considered as a generalization of both the Euclidean distance and the Manhattan distance.[wikipedia](https://en.wikipedia.org/wiki/Minkowski_distance)\n",
    " \n",
    "   **If a and b have n dimension**\n",
    "    \n",
    "   $a = (x_{11}, x_{12}, x_{13}, ....., x_{1n})$, $ \\ b = (x_{21}, x_{22}, x_{23}, ....., x_{2n})$\n",
    "    \n",
    "   $d_{12} = \\sqrt[p]{\\sum_{k = 1}^{n}\\mid x_{1k} - x_{2k} \\mid^p }$\n",
    "   \n",
    "     - when $p = 1$, equivalent to use manhattan distance.\n",
    "   \n",
    "     - when $p = 2$, equivalent to use euclidean distance.\n",
    "   \n",
    "     - when $p \\to \\infty$, equivalent to use chebyshev distance."
   ]
  },
  {
   "cell_type": "code",
   "execution_count": 34,
   "metadata": {},
   "outputs": [
    {
     "name": "stdout",
     "output_type": "stream",
     "text": [
      "manhattan distance: \n",
      " [[0. 7.]\n",
      " [7. 0.]]\n",
      "euclidean distance : \n",
      " [[0. 5.]\n",
      " [5. 0.]]\n",
      "chebyshev distance : \n",
      " [[0. 4.]\n",
      " [4. 0.]]\n"
     ]
    }
   ],
   "source": [
    "a = np.array([0, 0]).reshape(1, 2)\n",
    "b = np.array([4, 3]).reshape(1, 2)\n",
    "two_point = np.concatenate((a, b), axis = 0)\n",
    "\n",
    "dist = DistanceMetric.get_metric('minkowski', p = 1)\n",
    "dist_matrix = dist.pairwise(two_point)\n",
    "print('manhattan distance: \\n', dist_matrix)\n",
    "\n",
    "dist = DistanceMetric.get_metric('minkowski', p = 2)\n",
    "dist_matrix = dist.pairwise(two_point)\n",
    "print(\"euclidean distance : \\n\", dist_matrix)\n",
    "\n",
    "dist = DistanceMetric.get_metric('minkowski', p = float(\"Inf\")) ## float(\"Inf\") denote infinite\n",
    "dist_matrix = dist.pairwise(two_point)\n",
    "print(\"chebyshev distance : \\n\", dist_matrix)"
   ]
  }
 ],
 "metadata": {
  "kernelspec": {
   "display_name": "Python 3",
   "language": "python",
   "name": "python3"
  },
  "language_info": {
   "codemirror_mode": {
    "name": "ipython",
    "version": 3
   },
   "file_extension": ".py",
   "mimetype": "text/x-python",
   "name": "python",
   "nbconvert_exporter": "python",
   "pygments_lexer": "ipython3",
   "version": "3.6.4"
  },
  "toc": {
   "base_numbering": 1,
   "nav_menu": {},
   "number_sections": false,
   "sideBar": true,
   "skip_h1_title": false,
   "title_cell": "Table of Contents",
   "title_sidebar": "Contents",
   "toc_cell": false,
   "toc_position": {},
   "toc_section_display": true,
   "toc_window_display": false
  },
  "varInspector": {
   "cols": {
    "lenName": 16,
    "lenType": 16,
    "lenVar": 40
   },
   "kernels_config": {
    "python": {
     "delete_cmd_postfix": "",
     "delete_cmd_prefix": "del ",
     "library": "var_list.py",
     "varRefreshCmd": "print(var_dic_list())"
    },
    "r": {
     "delete_cmd_postfix": ") ",
     "delete_cmd_prefix": "rm(",
     "library": "var_list.r",
     "varRefreshCmd": "cat(var_dic_list()) "
    }
   },
   "types_to_exclude": [
    "module",
    "function",
    "builtin_function_or_method",
    "instance",
    "_Feature"
   ],
   "window_display": false
  }
 },
 "nbformat": 4,
 "nbformat_minor": 2
}
